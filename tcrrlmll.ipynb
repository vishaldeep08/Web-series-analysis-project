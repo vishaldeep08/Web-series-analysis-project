{
 "cells": [
  {
   "cell_type": "markdown",
   "id": "d6d1887b",
   "metadata": {
    "ExecuteTime": {
     "end_time": "2022-11-04T15:41:35.821021Z",
     "start_time": "2022-11-04T15:41:35.817030Z"
    }
   },
   "source": [
    "# import pandas as pd\n",
    "import numpy as np \n",
    "import matplotlib.pyplot as plt\n",
    "import seaborn as sns "
   ]
  },
  {
   "cell_type": "code",
   "execution_count": 1,
   "id": "84ba5766-e7f4-4d3f-85b0-62f4f7b309b5",
   "metadata": {},
   "outputs": [],
   "source": [
    "import pandas as pd"
   ]
  },
  {
   "cell_type": "code",
   "execution_count": 2,
   "id": "4045e865-f3d1-474e-8d35-0aaf50380c7d",
   "metadata": {},
   "outputs": [],
   "source": [
    "dataset = pd.read_excel(\"2255872-anime_data.xlsx\")"
   ]
  },
  {
   "cell_type": "code",
   "execution_count": 59,
   "id": "b39ff394",
   "metadata": {
    "ExecuteTime": {
     "end_time": "2022-11-04T15:41:35.963904Z",
     "start_time": "2022-11-04T15:41:35.945665Z"
    }
   },
   "outputs": [
    {
     "data": {
      "text/html": [
       "<div>\n",
       "<style scoped>\n",
       "    .dataframe tbody tr th:only-of-type {\n",
       "        vertical-align: middle;\n",
       "    }\n",
       "\n",
       "    .dataframe tbody tr th {\n",
       "        vertical-align: top;\n",
       "    }\n",
       "\n",
       "    .dataframe thead th {\n",
       "        text-align: right;\n",
       "    }\n",
       "</style>\n",
       "<table border=\"1\" class=\"dataframe\">\n",
       "  <thead>\n",
       "    <tr style=\"text-align: right;\">\n",
       "      <th></th>\n",
       "      <th>mediaType</th>\n",
       "      <th>duration</th>\n",
       "      <th>ongoing</th>\n",
       "      <th>sznOfRelease</th>\n",
       "      <th>years_running</th>\n",
       "      <th>studio_primary</th>\n",
       "      <th>studios_colab</th>\n",
       "      <th>contentWarn</th>\n",
       "      <th>watching</th>\n",
       "      <th>wantWatch</th>\n",
       "      <th>...</th>\n",
       "      <th>tag_Supernatural</th>\n",
       "      <th>tag_Magic</th>\n",
       "      <th>tag_Animal_Protagonists</th>\n",
       "      <th>tag_Ecchi</th>\n",
       "      <th>tag_Mecha</th>\n",
       "      <th>tag_Based_on_a_Light_Novel</th>\n",
       "      <th>tag_CG_Animation</th>\n",
       "      <th>tag_Superpowers</th>\n",
       "      <th>tag_Others</th>\n",
       "      <th>tag_missing</th>\n",
       "    </tr>\n",
       "  </thead>\n",
       "  <tbody>\n",
       "    <tr>\n",
       "      <th>1</th>\n",
       "      <td>Movie</td>\n",
       "      <td>107.0</td>\n",
       "      <td>False</td>\n",
       "      <td>is_missing</td>\n",
       "      <td>0</td>\n",
       "      <td>Others</td>\n",
       "      <td>0</td>\n",
       "      <td>0</td>\n",
       "      <td>1453</td>\n",
       "      <td>21733</td>\n",
       "      <td>...</td>\n",
       "      <td>1</td>\n",
       "      <td>0</td>\n",
       "      <td>0</td>\n",
       "      <td>0</td>\n",
       "      <td>0</td>\n",
       "      <td>0</td>\n",
       "      <td>0</td>\n",
       "      <td>0</td>\n",
       "      <td>0</td>\n",
       "      <td>0</td>\n",
       "    </tr>\n",
       "    <tr>\n",
       "      <th>2</th>\n",
       "      <td>Movie</td>\n",
       "      <td>130.0</td>\n",
       "      <td>False</td>\n",
       "      <td>is_missing</td>\n",
       "      <td>0</td>\n",
       "      <td>Kyoto Animation</td>\n",
       "      <td>0</td>\n",
       "      <td>1</td>\n",
       "      <td>946</td>\n",
       "      <td>17148</td>\n",
       "      <td>...</td>\n",
       "      <td>0</td>\n",
       "      <td>0</td>\n",
       "      <td>0</td>\n",
       "      <td>0</td>\n",
       "      <td>0</td>\n",
       "      <td>0</td>\n",
       "      <td>0</td>\n",
       "      <td>0</td>\n",
       "      <td>0</td>\n",
       "      <td>0</td>\n",
       "    </tr>\n",
       "    <tr>\n",
       "      <th>8</th>\n",
       "      <td>Movie</td>\n",
       "      <td>111.0</td>\n",
       "      <td>False</td>\n",
       "      <td>is_missing</td>\n",
       "      <td>0</td>\n",
       "      <td>Sunrise</td>\n",
       "      <td>0</td>\n",
       "      <td>0</td>\n",
       "      <td>280</td>\n",
       "      <td>6624</td>\n",
       "      <td>...</td>\n",
       "      <td>0</td>\n",
       "      <td>0</td>\n",
       "      <td>0</td>\n",
       "      <td>0</td>\n",
       "      <td>0</td>\n",
       "      <td>0</td>\n",
       "      <td>0</td>\n",
       "      <td>0</td>\n",
       "      <td>0</td>\n",
       "      <td>0</td>\n",
       "    </tr>\n",
       "  </tbody>\n",
       "</table>\n",
       "<p>3 rows × 40 columns</p>\n",
       "</div>"
      ],
      "text/plain": [
       "  mediaType  duration  ongoing sznOfRelease  years_running   studio_primary  \\\n",
       "1     Movie     107.0    False   is_missing              0           Others   \n",
       "2     Movie     130.0    False   is_missing              0  Kyoto Animation   \n",
       "8     Movie     111.0    False   is_missing              0          Sunrise   \n",
       "\n",
       "   studios_colab  contentWarn  watching  wantWatch  ...  tag_Supernatural  \\\n",
       "1              0            0      1453      21733  ...                 1   \n",
       "2              0            1       946      17148  ...                 0   \n",
       "8              0            0       280       6624  ...                 0   \n",
       "\n",
       "   tag_Magic  tag_Animal_Protagonists  tag_Ecchi  tag_Mecha  \\\n",
       "1          0                        0          0          0   \n",
       "2          0                        0          0          0   \n",
       "8          0                        0          0          0   \n",
       "\n",
       "   tag_Based_on_a_Light_Novel  tag_CG_Animation  tag_Superpowers  tag_Others  \\\n",
       "1                           0                 0                0           0   \n",
       "2                           0                 0                0           0   \n",
       "8                           0                 0                0           0   \n",
       "\n",
       "   tag_missing  \n",
       "1            0  \n",
       "2            0  \n",
       "8            0  \n",
       "\n",
       "[3 rows x 40 columns]"
      ]
     },
     "execution_count": 59,
     "metadata": {},
     "output_type": "execute_result"
    }
   ],
   "source": [
    "dataset.head(3)"
   ]
  },
  {
   "cell_type": "code",
   "execution_count": 4,
   "id": "846e3c52",
   "metadata": {
    "ExecuteTime": {
     "end_time": "2022-11-04T15:41:35.971678Z",
     "start_time": "2022-11-04T15:41:35.967565Z"
    }
   },
   "outputs": [
    {
     "data": {
      "text/plain": [
       "(12101, 44)"
      ]
     },
     "execution_count": 4,
     "metadata": {},
     "output_type": "execute_result"
    }
   ],
   "source": [
    "dataset.shape"
   ]
  },
  {
   "cell_type": "code",
   "execution_count": 5,
   "id": "5429f3eb",
   "metadata": {},
   "outputs": [
    {
     "data": {
      "text/plain": [
       "Index(['title', 'description', 'mediaType', 'eps', 'duration', 'ongoing',\n",
       "       'sznOfRelease', 'years_running', 'studio_primary', 'studios_colab',\n",
       "       'contentWarn', 'watched', 'watching', 'wantWatch', 'dropped', 'rating',\n",
       "       'votes', 'tag_Based_on_a_Manga', 'tag_Comedy', 'tag_Action',\n",
       "       'tag_Fantasy', 'tag_Sci_Fi', 'tag_Shounen', 'tag_Original_Work',\n",
       "       'tag_Non_Human_Protagonists', 'tag_Drama', 'tag_Adventure',\n",
       "       'tag_Family_Friendly', 'tag_Short_Episodes', 'tag_School_Life',\n",
       "       'tag_Romance', 'tag_Shorts', 'tag_Slice_of_Life', 'tag_Seinen',\n",
       "       'tag_Supernatural', 'tag_Magic', 'tag_Animal_Protagonists', 'tag_Ecchi',\n",
       "       'tag_Mecha', 'tag_Based_on_a_Light_Novel', 'tag_CG_Animation',\n",
       "       'tag_Superpowers', 'tag_Others', 'tag_missing'],\n",
       "      dtype='object')"
      ]
     },
     "execution_count": 5,
     "metadata": {},
     "output_type": "execute_result"
    }
   ],
   "source": [
    "dataset.columns"
   ]
  },
  {
   "cell_type": "code",
   "execution_count": 6,
   "id": "c485029e",
   "metadata": {
    "ExecuteTime": {
     "end_time": "2022-11-04T15:41:35.979355Z",
     "start_time": "2022-11-04T15:41:35.973845Z"
    }
   },
   "outputs": [
    {
     "data": {
      "text/plain": [
       "count    12101.000000\n",
       "mean        13.393356\n",
       "std         57.925097\n",
       "min          1.000000\n",
       "25%          1.000000\n",
       "50%          2.000000\n",
       "75%         12.000000\n",
       "max       2527.000000\n",
       "Name: eps, dtype: float64"
      ]
     },
     "execution_count": 6,
     "metadata": {},
     "output_type": "execute_result"
    }
   ],
   "source": [
    "dataset.eps.describe()"
   ]
  },
  {
   "cell_type": "code",
   "execution_count": null,
   "id": "876f2bd4",
   "metadata": {},
   "outputs": [],
   "source": []
  },
  {
   "cell_type": "code",
   "execution_count": 7,
   "id": "188e9ce0",
   "metadata": {},
   "outputs": [
    {
     "data": {
      "text/plain": [
       "(1493, 44)"
      ]
     },
     "execution_count": 7,
     "metadata": {},
     "output_type": "execute_result"
    }
   ],
   "source": [
    "dataset[(dataset['eps'] > 24) & (dataset.duration.isna())].shape"
   ]
  },
  {
   "cell_type": "code",
   "execution_count": 8,
   "id": "caddb1e7",
   "metadata": {},
   "outputs": [],
   "source": [
    "dataset_excluding_out = dataset[dataset['eps'] < 50]"
   ]
  },
  {
   "cell_type": "code",
   "execution_count": 9,
   "id": "6d552d2f",
   "metadata": {},
   "outputs": [
    {
     "name": "stderr",
     "output_type": "stream",
     "text": [
      "C:\\Users\\Lenovo\\AppData\\Local\\Temp\\ipykernel_8228\\3829596462.py:1: SettingWithCopyWarning: \n",
      "A value is trying to be set on a copy of a slice from a DataFrame.\n",
      "Try using .loc[row_indexer,col_indexer] = value instead\n",
      "\n",
      "See the caveats in the documentation: https://pandas.pydata.org/pandas-docs/stable/user_guide/indexing.html#returning-a-view-versus-a-copy\n",
      "  dataset_excluding_out['eps_brackets'] = pd.cut(dataset_excluding_out['eps'], bins = [1,10,20, 30, 40, 50],\\\n"
     ]
    }
   ],
   "source": [
    "dataset_excluding_out['eps_brackets'] = pd.cut(dataset_excluding_out['eps'], bins = [1,10,20, 30, 40, 50],\\\n",
    "                                 labels = ['cat1', 'cat2', 'cat3', 'cat4', 'cat5'])"
   ]
  },
  {
   "cell_type": "code",
   "execution_count": 10,
   "id": "2a048299",
   "metadata": {},
   "outputs": [
    {
     "data": {
      "text/plain": [
       "(11388, 45)"
      ]
     },
     "execution_count": 10,
     "metadata": {},
     "output_type": "execute_result"
    }
   ],
   "source": [
    "dataset_excluding_out.shape"
   ]
  },
  {
   "cell_type": "code",
   "execution_count": 11,
   "id": "bd393783",
   "metadata": {},
   "outputs": [
    {
     "name": "stderr",
     "output_type": "stream",
     "text": [
      "C:\\Users\\Lenovo\\AppData\\Local\\Temp\\ipykernel_8228\\145154825.py:1: FutureWarning: The default of observed=False is deprecated and will be changed to True in a future version of pandas. Pass observed=False to retain current behavior or observed=True to adopt the future default and silence this warning.\n",
      "  dataset_excluding_out.groupby(['eps_brackets']).duration.mean()\n"
     ]
    },
    {
     "data": {
      "text/plain": [
       "eps_brackets\n",
       "cat1    13.556684\n",
       "cat2     7.419295\n",
       "cat3     7.184783\n",
       "cat4     8.549020\n",
       "cat5     8.823529\n",
       "Name: duration, dtype: float64"
      ]
     },
     "execution_count": 11,
     "metadata": {},
     "output_type": "execute_result"
    }
   ],
   "source": [
    "dataset_excluding_out.groupby(['eps_brackets']).duration.mean()"
   ]
  },
  {
   "cell_type": "code",
   "execution_count": 12,
   "id": "170b0ac7",
   "metadata": {},
   "outputs": [
    {
     "name": "stderr",
     "output_type": "stream",
     "text": [
      "C:\\Users\\Lenovo\\AppData\\Local\\Temp\\ipykernel_8228\\86970042.py:1: FutureWarning: The default of observed=False is deprecated and will be changed to True in a future version of pandas. Pass observed=False to retain current behavior or observed=True to adopt the future default and silence this warning.\n",
      "  dataset_excluding_out.groupby(['eps_brackets']).title.count()\n"
     ]
    },
    {
     "data": {
      "text/plain": [
       "eps_brackets\n",
       "cat1    1901\n",
       "cat2    2111\n",
       "cat3    1038\n",
       "cat4     220\n",
       "cat5     169\n",
       "Name: title, dtype: int64"
      ]
     },
     "execution_count": 12,
     "metadata": {},
     "output_type": "execute_result"
    }
   ],
   "source": [
    "dataset_excluding_out.groupby(['eps_brackets']).title.count()"
   ]
  },
  {
   "cell_type": "code",
   "execution_count": 13,
   "id": "364bbe7b",
   "metadata": {},
   "outputs": [
    {
     "data": {
      "text/plain": [
       "(1901, 45)"
      ]
     },
     "execution_count": 13,
     "metadata": {},
     "output_type": "execute_result"
    }
   ],
   "source": [
    "dataset_excluding_out[dataset_excluding_out['eps_brackets'] == 'cat1'].shape"
   ]
  },
  {
   "cell_type": "code",
   "execution_count": 14,
   "id": "9950cf8d",
   "metadata": {},
   "outputs": [
    {
     "data": {
      "text/html": [
       "<div>\n",
       "<style scoped>\n",
       "    .dataframe tbody tr th:only-of-type {\n",
       "        vertical-align: middle;\n",
       "    }\n",
       "\n",
       "    .dataframe tbody tr th {\n",
       "        vertical-align: top;\n",
       "    }\n",
       "\n",
       "    .dataframe thead th {\n",
       "        text-align: right;\n",
       "    }\n",
       "</style>\n",
       "<table border=\"1\" class=\"dataframe\">\n",
       "  <thead>\n",
       "    <tr style=\"text-align: right;\">\n",
       "      <th></th>\n",
       "      <th>eps</th>\n",
       "      <th>duration</th>\n",
       "      <th>years_running</th>\n",
       "      <th>studios_colab</th>\n",
       "      <th>contentWarn</th>\n",
       "      <th>watched</th>\n",
       "      <th>watching</th>\n",
       "      <th>wantWatch</th>\n",
       "      <th>dropped</th>\n",
       "      <th>rating</th>\n",
       "      <th>...</th>\n",
       "      <th>tag_Supernatural</th>\n",
       "      <th>tag_Magic</th>\n",
       "      <th>tag_Animal_Protagonists</th>\n",
       "      <th>tag_Ecchi</th>\n",
       "      <th>tag_Mecha</th>\n",
       "      <th>tag_Based_on_a_Light_Novel</th>\n",
       "      <th>tag_CG_Animation</th>\n",
       "      <th>tag_Superpowers</th>\n",
       "      <th>tag_Others</th>\n",
       "      <th>tag_missing</th>\n",
       "    </tr>\n",
       "  </thead>\n",
       "  <tbody>\n",
       "    <tr>\n",
       "      <th>count</th>\n",
       "      <td>7098.000000</td>\n",
       "      <td>7098.000000</td>\n",
       "      <td>7098.000000</td>\n",
       "      <td>7098.000000</td>\n",
       "      <td>7098.000000</td>\n",
       "      <td>7098.000000</td>\n",
       "      <td>7098.000000</td>\n",
       "      <td>7098.000000</td>\n",
       "      <td>7098.000000</td>\n",
       "      <td>7098.000000</td>\n",
       "      <td>...</td>\n",
       "      <td>7098.000000</td>\n",
       "      <td>7098.000000</td>\n",
       "      <td>7098.000000</td>\n",
       "      <td>7098.000000</td>\n",
       "      <td>7098.000000</td>\n",
       "      <td>7098.000000</td>\n",
       "      <td>7098.00000</td>\n",
       "      <td>7098.000000</td>\n",
       "      <td>7098.000000</td>\n",
       "      <td>7098.000000</td>\n",
       "    </tr>\n",
       "    <tr>\n",
       "      <th>mean</th>\n",
       "      <td>2.546210</td>\n",
       "      <td>25.080727</td>\n",
       "      <td>0.104959</td>\n",
       "      <td>0.034658</td>\n",
       "      <td>0.095661</td>\n",
       "      <td>1531.826289</td>\n",
       "      <td>42.525923</td>\n",
       "      <td>609.343054</td>\n",
       "      <td>22.749084</td>\n",
       "      <td>2.742419</td>\n",
       "      <td>...</td>\n",
       "      <td>0.057904</td>\n",
       "      <td>0.044520</td>\n",
       "      <td>0.066216</td>\n",
       "      <td>0.042265</td>\n",
       "      <td>0.038321</td>\n",
       "      <td>0.033390</td>\n",
       "      <td>0.05410</td>\n",
       "      <td>0.033671</td>\n",
       "      <td>0.132150</td>\n",
       "      <td>0.039589</td>\n",
       "    </tr>\n",
       "    <tr>\n",
       "      <th>std</th>\n",
       "      <td>3.611337</td>\n",
       "      <td>32.016127</td>\n",
       "      <td>0.556363</td>\n",
       "      <td>0.182924</td>\n",
       "      <td>0.294146</td>\n",
       "      <td>4699.844075</td>\n",
       "      <td>238.987630</td>\n",
       "      <td>1301.861782</td>\n",
       "      <td>72.586285</td>\n",
       "      <td>0.831137</td>\n",
       "      <td>...</td>\n",
       "      <td>0.233578</td>\n",
       "      <td>0.206261</td>\n",
       "      <td>0.248677</td>\n",
       "      <td>0.201208</td>\n",
       "      <td>0.191983</td>\n",
       "      <td>0.179665</td>\n",
       "      <td>0.22623</td>\n",
       "      <td>0.180395</td>\n",
       "      <td>0.338678</td>\n",
       "      <td>0.195004</td>\n",
       "    </tr>\n",
       "    <tr>\n",
       "      <th>min</th>\n",
       "      <td>1.000000</td>\n",
       "      <td>1.000000</td>\n",
       "      <td>0.000000</td>\n",
       "      <td>0.000000</td>\n",
       "      <td>0.000000</td>\n",
       "      <td>0.000000</td>\n",
       "      <td>0.000000</td>\n",
       "      <td>0.000000</td>\n",
       "      <td>0.000000</td>\n",
       "      <td>0.844000</td>\n",
       "      <td>...</td>\n",
       "      <td>0.000000</td>\n",
       "      <td>0.000000</td>\n",
       "      <td>0.000000</td>\n",
       "      <td>0.000000</td>\n",
       "      <td>0.000000</td>\n",
       "      <td>0.000000</td>\n",
       "      <td>0.00000</td>\n",
       "      <td>0.000000</td>\n",
       "      <td>0.000000</td>\n",
       "      <td>0.000000</td>\n",
       "    </tr>\n",
       "    <tr>\n",
       "      <th>25%</th>\n",
       "      <td>1.000000</td>\n",
       "      <td>4.000000</td>\n",
       "      <td>0.000000</td>\n",
       "      <td>0.000000</td>\n",
       "      <td>0.000000</td>\n",
       "      <td>41.000000</td>\n",
       "      <td>1.000000</td>\n",
       "      <td>28.000000</td>\n",
       "      <td>1.000000</td>\n",
       "      <td>2.072000</td>\n",
       "      <td>...</td>\n",
       "      <td>0.000000</td>\n",
       "      <td>0.000000</td>\n",
       "      <td>0.000000</td>\n",
       "      <td>0.000000</td>\n",
       "      <td>0.000000</td>\n",
       "      <td>0.000000</td>\n",
       "      <td>0.00000</td>\n",
       "      <td>0.000000</td>\n",
       "      <td>0.000000</td>\n",
       "      <td>0.000000</td>\n",
       "    </tr>\n",
       "    <tr>\n",
       "      <th>50%</th>\n",
       "      <td>1.000000</td>\n",
       "      <td>9.000000</td>\n",
       "      <td>0.000000</td>\n",
       "      <td>0.000000</td>\n",
       "      <td>0.000000</td>\n",
       "      <td>170.000000</td>\n",
       "      <td>5.000000</td>\n",
       "      <td>136.000000</td>\n",
       "      <td>5.000000</td>\n",
       "      <td>2.707000</td>\n",
       "      <td>...</td>\n",
       "      <td>0.000000</td>\n",
       "      <td>0.000000</td>\n",
       "      <td>0.000000</td>\n",
       "      <td>0.000000</td>\n",
       "      <td>0.000000</td>\n",
       "      <td>0.000000</td>\n",
       "      <td>0.00000</td>\n",
       "      <td>0.000000</td>\n",
       "      <td>0.000000</td>\n",
       "      <td>0.000000</td>\n",
       "    </tr>\n",
       "    <tr>\n",
       "      <th>75%</th>\n",
       "      <td>1.000000</td>\n",
       "      <td>30.000000</td>\n",
       "      <td>0.000000</td>\n",
       "      <td>0.000000</td>\n",
       "      <td>0.000000</td>\n",
       "      <td>914.000000</td>\n",
       "      <td>26.000000</td>\n",
       "      <td>622.000000</td>\n",
       "      <td>17.000000</td>\n",
       "      <td>3.387750</td>\n",
       "      <td>...</td>\n",
       "      <td>0.000000</td>\n",
       "      <td>0.000000</td>\n",
       "      <td>0.000000</td>\n",
       "      <td>0.000000</td>\n",
       "      <td>0.000000</td>\n",
       "      <td>0.000000</td>\n",
       "      <td>0.00000</td>\n",
       "      <td>0.000000</td>\n",
       "      <td>0.000000</td>\n",
       "      <td>0.000000</td>\n",
       "    </tr>\n",
       "    <tr>\n",
       "      <th>max</th>\n",
       "      <td>23.000000</td>\n",
       "      <td>163.000000</td>\n",
       "      <td>20.000000</td>\n",
       "      <td>1.000000</td>\n",
       "      <td>1.000000</td>\n",
       "      <td>115949.000000</td>\n",
       "      <td>15732.000000</td>\n",
       "      <td>21733.000000</td>\n",
       "      <td>2010.000000</td>\n",
       "      <td>4.663000</td>\n",
       "      <td>...</td>\n",
       "      <td>1.000000</td>\n",
       "      <td>1.000000</td>\n",
       "      <td>1.000000</td>\n",
       "      <td>1.000000</td>\n",
       "      <td>1.000000</td>\n",
       "      <td>1.000000</td>\n",
       "      <td>1.00000</td>\n",
       "      <td>1.000000</td>\n",
       "      <td>1.000000</td>\n",
       "      <td>1.000000</td>\n",
       "    </tr>\n",
       "  </tbody>\n",
       "</table>\n",
       "<p>8 rows × 38 columns</p>\n",
       "</div>"
      ],
      "text/plain": [
       "               eps     duration  years_running  studios_colab  contentWarn  \\\n",
       "count  7098.000000  7098.000000    7098.000000    7098.000000  7098.000000   \n",
       "mean      2.546210    25.080727       0.104959       0.034658     0.095661   \n",
       "std       3.611337    32.016127       0.556363       0.182924     0.294146   \n",
       "min       1.000000     1.000000       0.000000       0.000000     0.000000   \n",
       "25%       1.000000     4.000000       0.000000       0.000000     0.000000   \n",
       "50%       1.000000     9.000000       0.000000       0.000000     0.000000   \n",
       "75%       1.000000    30.000000       0.000000       0.000000     0.000000   \n",
       "max      23.000000   163.000000      20.000000       1.000000     1.000000   \n",
       "\n",
       "             watched      watching     wantWatch      dropped       rating  \\\n",
       "count    7098.000000   7098.000000   7098.000000  7098.000000  7098.000000   \n",
       "mean     1531.826289     42.525923    609.343054    22.749084     2.742419   \n",
       "std      4699.844075    238.987630   1301.861782    72.586285     0.831137   \n",
       "min         0.000000      0.000000      0.000000     0.000000     0.844000   \n",
       "25%        41.000000      1.000000     28.000000     1.000000     2.072000   \n",
       "50%       170.000000      5.000000    136.000000     5.000000     2.707000   \n",
       "75%       914.000000     26.000000    622.000000    17.000000     3.387750   \n",
       "max    115949.000000  15732.000000  21733.000000  2010.000000     4.663000   \n",
       "\n",
       "       ...  tag_Supernatural    tag_Magic  tag_Animal_Protagonists  \\\n",
       "count  ...       7098.000000  7098.000000              7098.000000   \n",
       "mean   ...          0.057904     0.044520                 0.066216   \n",
       "std    ...          0.233578     0.206261                 0.248677   \n",
       "min    ...          0.000000     0.000000                 0.000000   \n",
       "25%    ...          0.000000     0.000000                 0.000000   \n",
       "50%    ...          0.000000     0.000000                 0.000000   \n",
       "75%    ...          0.000000     0.000000                 0.000000   \n",
       "max    ...          1.000000     1.000000                 1.000000   \n",
       "\n",
       "         tag_Ecchi    tag_Mecha  tag_Based_on_a_Light_Novel  tag_CG_Animation  \\\n",
       "count  7098.000000  7098.000000                 7098.000000        7098.00000   \n",
       "mean      0.042265     0.038321                    0.033390           0.05410   \n",
       "std       0.201208     0.191983                    0.179665           0.22623   \n",
       "min       0.000000     0.000000                    0.000000           0.00000   \n",
       "25%       0.000000     0.000000                    0.000000           0.00000   \n",
       "50%       0.000000     0.000000                    0.000000           0.00000   \n",
       "75%       0.000000     0.000000                    0.000000           0.00000   \n",
       "max       1.000000     1.000000                    1.000000           1.00000   \n",
       "\n",
       "       tag_Superpowers   tag_Others  tag_missing  \n",
       "count      7098.000000  7098.000000  7098.000000  \n",
       "mean          0.033671     0.132150     0.039589  \n",
       "std           0.180395     0.338678     0.195004  \n",
       "min           0.000000     0.000000     0.000000  \n",
       "25%           0.000000     0.000000     0.000000  \n",
       "50%           0.000000     0.000000     0.000000  \n",
       "75%           0.000000     0.000000     0.000000  \n",
       "max           1.000000     1.000000     1.000000  \n",
       "\n",
       "[8 rows x 38 columns]"
      ]
     },
     "execution_count": 14,
     "metadata": {},
     "output_type": "execute_result"
    }
   ],
   "source": [
    "dataset[(dataset['eps'] < 24) & (~dataset.duration.isna())].describe()"
   ]
  },
  {
   "cell_type": "code",
   "execution_count": 15,
   "id": "bfe600c2",
   "metadata": {},
   "outputs": [
    {
     "data": {
      "text/html": [
       "<div>\n",
       "<style scoped>\n",
       "    .dataframe tbody tr th:only-of-type {\n",
       "        vertical-align: middle;\n",
       "    }\n",
       "\n",
       "    .dataframe tbody tr th {\n",
       "        vertical-align: top;\n",
       "    }\n",
       "\n",
       "    .dataframe thead th {\n",
       "        text-align: right;\n",
       "    }\n",
       "</style>\n",
       "<table border=\"1\" class=\"dataframe\">\n",
       "  <thead>\n",
       "    <tr style=\"text-align: right;\">\n",
       "      <th></th>\n",
       "      <th>duration</th>\n",
       "      <th>mediaType</th>\n",
       "    </tr>\n",
       "    <tr>\n",
       "      <th>mediaType</th>\n",
       "      <th></th>\n",
       "      <th></th>\n",
       "    </tr>\n",
       "  </thead>\n",
       "  <tbody>\n",
       "    <tr>\n",
       "      <th>DVD Special</th>\n",
       "      <td>10.995798</td>\n",
       "      <td>802</td>\n",
       "    </tr>\n",
       "    <tr>\n",
       "      <th>Movie</th>\n",
       "      <td>57.869213</td>\n",
       "      <td>1928</td>\n",
       "    </tr>\n",
       "    <tr>\n",
       "      <th>Music Video</th>\n",
       "      <td>4.009412</td>\n",
       "      <td>1290</td>\n",
       "    </tr>\n",
       "    <tr>\n",
       "      <th>OVA</th>\n",
       "      <td>32.913809</td>\n",
       "      <td>1769</td>\n",
       "    </tr>\n",
       "    <tr>\n",
       "      <th>Other</th>\n",
       "      <td>7.219378</td>\n",
       "      <td>576</td>\n",
       "    </tr>\n",
       "    <tr>\n",
       "      <th>TV</th>\n",
       "      <td>7.130662</td>\n",
       "      <td>3308</td>\n",
       "    </tr>\n",
       "    <tr>\n",
       "      <th>TV Special</th>\n",
       "      <td>45.795181</td>\n",
       "      <td>504</td>\n",
       "    </tr>\n",
       "    <tr>\n",
       "      <th>Web</th>\n",
       "      <td>7.116523</td>\n",
       "      <td>1152</td>\n",
       "    </tr>\n",
       "    <tr>\n",
       "      <th>is_missing</th>\n",
       "      <td>17.555556</td>\n",
       "      <td>59</td>\n",
       "    </tr>\n",
       "  </tbody>\n",
       "</table>\n",
       "</div>"
      ],
      "text/plain": [
       "              duration  mediaType\n",
       "mediaType                        \n",
       "DVD Special  10.995798        802\n",
       "Movie        57.869213       1928\n",
       "Music Video   4.009412       1290\n",
       "OVA          32.913809       1769\n",
       "Other         7.219378        576\n",
       "TV            7.130662       3308\n",
       "TV Special   45.795181        504\n",
       "Web           7.116523       1152\n",
       "is_missing   17.555556         59"
      ]
     },
     "execution_count": 15,
     "metadata": {},
     "output_type": "execute_result"
    }
   ],
   "source": [
    "dataset_excluding_out.groupby('mediaType').agg({'duration':'mean', 'mediaType':'count'})"
   ]
  },
  {
   "cell_type": "code",
   "execution_count": 16,
   "id": "e393f527",
   "metadata": {
    "ExecuteTime": {
     "end_time": "2022-11-04T15:41:35.998602Z",
     "start_time": "2022-11-04T15:41:35.983420Z"
    }
   },
   "outputs": [
    {
     "data": {
      "text/plain": [
       "title                            1\n",
       "description                   4468\n",
       "mediaType                        0\n",
       "eps                              0\n",
       "duration                      4636\n",
       "ongoing                          0\n",
       "sznOfRelease                     0\n",
       "years_running                    0\n",
       "studio_primary                   0\n",
       "studios_colab                    0\n",
       "contentWarn                      0\n",
       "watched                          0\n",
       "watching                         0\n",
       "wantWatch                        0\n",
       "dropped                          0\n",
       "rating                           0\n",
       "votes                            0\n",
       "tag_Based_on_a_Manga             0\n",
       "tag_Comedy                       0\n",
       "tag_Action                       0\n",
       "tag_Fantasy                      0\n",
       "tag_Sci_Fi                       0\n",
       "tag_Shounen                      0\n",
       "tag_Original_Work                0\n",
       "tag_Non_Human_Protagonists       0\n",
       "tag_Drama                        0\n",
       "tag_Adventure                    0\n",
       "tag_Family_Friendly              0\n",
       "tag_Short_Episodes               0\n",
       "tag_School_Life                  0\n",
       "tag_Romance                      0\n",
       "tag_Shorts                       0\n",
       "tag_Slice_of_Life                0\n",
       "tag_Seinen                       0\n",
       "tag_Supernatural                 0\n",
       "tag_Magic                        0\n",
       "tag_Animal_Protagonists          0\n",
       "tag_Ecchi                        0\n",
       "tag_Mecha                        0\n",
       "tag_Based_on_a_Light_Novel       0\n",
       "tag_CG_Animation                 0\n",
       "tag_Superpowers                  0\n",
       "tag_Others                       0\n",
       "tag_missing                      0\n",
       "dtype: int64"
      ]
     },
     "execution_count": 16,
     "metadata": {},
     "output_type": "execute_result"
    }
   ],
   "source": [
    "dataset.isna().sum()"
   ]
  },
  {
   "cell_type": "code",
   "execution_count": 17,
   "id": "60033192",
   "metadata": {
    "ExecuteTime": {
     "end_time": "2022-11-04T15:41:36.024782Z",
     "start_time": "2022-11-04T15:41:36.002019Z"
    }
   },
   "outputs": [
    {
     "name": "stdout",
     "output_type": "stream",
     "text": [
      "<class 'pandas.core.frame.DataFrame'>\n",
      "RangeIndex: 12101 entries, 0 to 12100\n",
      "Data columns (total 44 columns):\n",
      " #   Column                      Non-Null Count  Dtype  \n",
      "---  ------                      --------------  -----  \n",
      " 0   title                       12100 non-null  object \n",
      " 1   description                 7633 non-null   object \n",
      " 2   mediaType                   12101 non-null  object \n",
      " 3   eps                         12101 non-null  int64  \n",
      " 4   duration                    7465 non-null   float64\n",
      " 5   ongoing                     12101 non-null  bool   \n",
      " 6   sznOfRelease                12101 non-null  object \n",
      " 7   years_running               12101 non-null  int64  \n",
      " 8   studio_primary              12101 non-null  object \n",
      " 9   studios_colab               12101 non-null  int64  \n",
      " 10  contentWarn                 12101 non-null  int64  \n",
      " 11  watched                     12101 non-null  float64\n",
      " 12  watching                    12101 non-null  int64  \n",
      " 13  wantWatch                   12101 non-null  int64  \n",
      " 14  dropped                     12101 non-null  int64  \n",
      " 15  rating                      12101 non-null  float64\n",
      " 16  votes                       12101 non-null  int64  \n",
      " 17  tag_Based_on_a_Manga        12101 non-null  int64  \n",
      " 18  tag_Comedy                  12101 non-null  int64  \n",
      " 19  tag_Action                  12101 non-null  int64  \n",
      " 20  tag_Fantasy                 12101 non-null  int64  \n",
      " 21  tag_Sci_Fi                  12101 non-null  int64  \n",
      " 22  tag_Shounen                 12101 non-null  int64  \n",
      " 23  tag_Original_Work           12101 non-null  int64  \n",
      " 24  tag_Non_Human_Protagonists  12101 non-null  int64  \n",
      " 25  tag_Drama                   12101 non-null  int64  \n",
      " 26  tag_Adventure               12101 non-null  int64  \n",
      " 27  tag_Family_Friendly         12101 non-null  int64  \n",
      " 28  tag_Short_Episodes          12101 non-null  int64  \n",
      " 29  tag_School_Life             12101 non-null  int64  \n",
      " 30  tag_Romance                 12101 non-null  int64  \n",
      " 31  tag_Shorts                  12101 non-null  int64  \n",
      " 32  tag_Slice_of_Life           12101 non-null  int64  \n",
      " 33  tag_Seinen                  12101 non-null  int64  \n",
      " 34  tag_Supernatural            12101 non-null  int64  \n",
      " 35  tag_Magic                   12101 non-null  int64  \n",
      " 36  tag_Animal_Protagonists     12101 non-null  int64  \n",
      " 37  tag_Ecchi                   12101 non-null  int64  \n",
      " 38  tag_Mecha                   12101 non-null  int64  \n",
      " 39  tag_Based_on_a_Light_Novel  12101 non-null  int64  \n",
      " 40  tag_CG_Animation            12101 non-null  int64  \n",
      " 41  tag_Superpowers             12101 non-null  int64  \n",
      " 42  tag_Others                  12101 non-null  int64  \n",
      " 43  tag_missing                 12101 non-null  int64  \n",
      "dtypes: bool(1), float64(3), int64(35), object(5)\n",
      "memory usage: 4.0+ MB\n"
     ]
    }
   ],
   "source": [
    "dataset.info()"
   ]
  },
  {
   "cell_type": "code",
   "execution_count": 18,
   "id": "db99aaac",
   "metadata": {
    "ExecuteTime": {
     "end_time": "2022-11-04T15:41:36.149722Z",
     "start_time": "2022-11-04T15:41:36.028829Z"
    }
   },
   "outputs": [
    {
     "data": {
      "text/html": [
       "<div>\n",
       "<style scoped>\n",
       "    .dataframe tbody tr th:only-of-type {\n",
       "        vertical-align: middle;\n",
       "    }\n",
       "\n",
       "    .dataframe tbody tr th {\n",
       "        vertical-align: top;\n",
       "    }\n",
       "\n",
       "    .dataframe thead th {\n",
       "        text-align: right;\n",
       "    }\n",
       "</style>\n",
       "<table border=\"1\" class=\"dataframe\">\n",
       "  <thead>\n",
       "    <tr style=\"text-align: right;\">\n",
       "      <th></th>\n",
       "      <th>count</th>\n",
       "      <th>mean</th>\n",
       "      <th>std</th>\n",
       "      <th>min</th>\n",
       "      <th>25%</th>\n",
       "      <th>50%</th>\n",
       "      <th>75%</th>\n",
       "      <th>max</th>\n",
       "    </tr>\n",
       "  </thead>\n",
       "  <tbody>\n",
       "    <tr>\n",
       "      <th>eps</th>\n",
       "      <td>12101.0</td>\n",
       "      <td>13.393356</td>\n",
       "      <td>57.925097</td>\n",
       "      <td>1.000</td>\n",
       "      <td>1.000</td>\n",
       "      <td>2.000</td>\n",
       "      <td>12.000</td>\n",
       "      <td>2527.000</td>\n",
       "    </tr>\n",
       "    <tr>\n",
       "      <th>duration</th>\n",
       "      <td>7465.0</td>\n",
       "      <td>24.230141</td>\n",
       "      <td>31.468171</td>\n",
       "      <td>1.000</td>\n",
       "      <td>4.000</td>\n",
       "      <td>8.000</td>\n",
       "      <td>30.000</td>\n",
       "      <td>163.000</td>\n",
       "    </tr>\n",
       "    <tr>\n",
       "      <th>years_running</th>\n",
       "      <td>12101.0</td>\n",
       "      <td>0.283200</td>\n",
       "      <td>1.152234</td>\n",
       "      <td>0.000</td>\n",
       "      <td>0.000</td>\n",
       "      <td>0.000</td>\n",
       "      <td>0.000</td>\n",
       "      <td>51.000</td>\n",
       "    </tr>\n",
       "    <tr>\n",
       "      <th>studios_colab</th>\n",
       "      <td>12101.0</td>\n",
       "      <td>0.051649</td>\n",
       "      <td>0.221326</td>\n",
       "      <td>0.000</td>\n",
       "      <td>0.000</td>\n",
       "      <td>0.000</td>\n",
       "      <td>0.000</td>\n",
       "      <td>1.000</td>\n",
       "    </tr>\n",
       "    <tr>\n",
       "      <th>contentWarn</th>\n",
       "      <td>12101.0</td>\n",
       "      <td>0.115362</td>\n",
       "      <td>0.319472</td>\n",
       "      <td>0.000</td>\n",
       "      <td>0.000</td>\n",
       "      <td>0.000</td>\n",
       "      <td>0.000</td>\n",
       "      <td>1.000</td>\n",
       "    </tr>\n",
       "    <tr>\n",
       "      <th>watched</th>\n",
       "      <td>12101.0</td>\n",
       "      <td>2862.605694</td>\n",
       "      <td>7724.347024</td>\n",
       "      <td>0.000</td>\n",
       "      <td>55.000</td>\n",
       "      <td>341.000</td>\n",
       "      <td>2026.000</td>\n",
       "      <td>161567.000</td>\n",
       "    </tr>\n",
       "    <tr>\n",
       "      <th>watching</th>\n",
       "      <td>12101.0</td>\n",
       "      <td>256.334435</td>\n",
       "      <td>1380.840902</td>\n",
       "      <td>0.000</td>\n",
       "      <td>2.000</td>\n",
       "      <td>14.000</td>\n",
       "      <td>100.000</td>\n",
       "      <td>74537.000</td>\n",
       "    </tr>\n",
       "    <tr>\n",
       "      <th>wantWatch</th>\n",
       "      <td>12101.0</td>\n",
       "      <td>1203.681431</td>\n",
       "      <td>2294.327380</td>\n",
       "      <td>0.000</td>\n",
       "      <td>49.000</td>\n",
       "      <td>296.000</td>\n",
       "      <td>1275.000</td>\n",
       "      <td>28541.000</td>\n",
       "    </tr>\n",
       "    <tr>\n",
       "      <th>dropped</th>\n",
       "      <td>12101.0</td>\n",
       "      <td>151.568383</td>\n",
       "      <td>493.931710</td>\n",
       "      <td>0.000</td>\n",
       "      <td>3.000</td>\n",
       "      <td>12.000</td>\n",
       "      <td>65.000</td>\n",
       "      <td>19481.000</td>\n",
       "    </tr>\n",
       "    <tr>\n",
       "      <th>rating</th>\n",
       "      <td>12101.0</td>\n",
       "      <td>2.949037</td>\n",
       "      <td>0.827385</td>\n",
       "      <td>0.844</td>\n",
       "      <td>2.304</td>\n",
       "      <td>2.965</td>\n",
       "      <td>3.616</td>\n",
       "      <td>4.702</td>\n",
       "    </tr>\n",
       "    <tr>\n",
       "      <th>votes</th>\n",
       "      <td>12101.0</td>\n",
       "      <td>2088.124700</td>\n",
       "      <td>5950.332228</td>\n",
       "      <td>10.000</td>\n",
       "      <td>34.000</td>\n",
       "      <td>219.000</td>\n",
       "      <td>1414.000</td>\n",
       "      <td>131067.000</td>\n",
       "    </tr>\n",
       "    <tr>\n",
       "      <th>tag_Based_on_a_Manga</th>\n",
       "      <td>12101.0</td>\n",
       "      <td>0.290802</td>\n",
       "      <td>0.454151</td>\n",
       "      <td>0.000</td>\n",
       "      <td>0.000</td>\n",
       "      <td>0.000</td>\n",
       "      <td>1.000</td>\n",
       "      <td>1.000</td>\n",
       "    </tr>\n",
       "    <tr>\n",
       "      <th>tag_Comedy</th>\n",
       "      <td>12101.0</td>\n",
       "      <td>0.272870</td>\n",
       "      <td>0.445453</td>\n",
       "      <td>0.000</td>\n",
       "      <td>0.000</td>\n",
       "      <td>0.000</td>\n",
       "      <td>1.000</td>\n",
       "      <td>1.000</td>\n",
       "    </tr>\n",
       "    <tr>\n",
       "      <th>tag_Action</th>\n",
       "      <td>12101.0</td>\n",
       "      <td>0.231221</td>\n",
       "      <td>0.421631</td>\n",
       "      <td>0.000</td>\n",
       "      <td>0.000</td>\n",
       "      <td>0.000</td>\n",
       "      <td>0.000</td>\n",
       "      <td>1.000</td>\n",
       "    </tr>\n",
       "    <tr>\n",
       "      <th>tag_Fantasy</th>\n",
       "      <td>12101.0</td>\n",
       "      <td>0.181555</td>\n",
       "      <td>0.385493</td>\n",
       "      <td>0.000</td>\n",
       "      <td>0.000</td>\n",
       "      <td>0.000</td>\n",
       "      <td>0.000</td>\n",
       "      <td>1.000</td>\n",
       "    </tr>\n",
       "    <tr>\n",
       "      <th>tag_Sci_Fi</th>\n",
       "      <td>12101.0</td>\n",
       "      <td>0.166267</td>\n",
       "      <td>0.372336</td>\n",
       "      <td>0.000</td>\n",
       "      <td>0.000</td>\n",
       "      <td>0.000</td>\n",
       "      <td>0.000</td>\n",
       "      <td>1.000</td>\n",
       "    </tr>\n",
       "    <tr>\n",
       "      <th>tag_Shounen</th>\n",
       "      <td>12101.0</td>\n",
       "      <td>0.144864</td>\n",
       "      <td>0.351978</td>\n",
       "      <td>0.000</td>\n",
       "      <td>0.000</td>\n",
       "      <td>0.000</td>\n",
       "      <td>0.000</td>\n",
       "      <td>1.000</td>\n",
       "    </tr>\n",
       "    <tr>\n",
       "      <th>tag_Original_Work</th>\n",
       "      <td>12101.0</td>\n",
       "      <td>0.135195</td>\n",
       "      <td>0.341946</td>\n",
       "      <td>0.000</td>\n",
       "      <td>0.000</td>\n",
       "      <td>0.000</td>\n",
       "      <td>0.000</td>\n",
       "      <td>1.000</td>\n",
       "    </tr>\n",
       "    <tr>\n",
       "      <th>tag_Non_Human_Protagonists</th>\n",
       "      <td>12101.0</td>\n",
       "      <td>0.112470</td>\n",
       "      <td>0.315957</td>\n",
       "      <td>0.000</td>\n",
       "      <td>0.000</td>\n",
       "      <td>0.000</td>\n",
       "      <td>0.000</td>\n",
       "      <td>1.000</td>\n",
       "    </tr>\n",
       "    <tr>\n",
       "      <th>tag_Drama</th>\n",
       "      <td>12101.0</td>\n",
       "      <td>0.106107</td>\n",
       "      <td>0.307987</td>\n",
       "      <td>0.000</td>\n",
       "      <td>0.000</td>\n",
       "      <td>0.000</td>\n",
       "      <td>0.000</td>\n",
       "      <td>1.000</td>\n",
       "    </tr>\n",
       "    <tr>\n",
       "      <th>tag_Adventure</th>\n",
       "      <td>12101.0</td>\n",
       "      <td>0.103793</td>\n",
       "      <td>0.305005</td>\n",
       "      <td>0.000</td>\n",
       "      <td>0.000</td>\n",
       "      <td>0.000</td>\n",
       "      <td>0.000</td>\n",
       "      <td>1.000</td>\n",
       "    </tr>\n",
       "    <tr>\n",
       "      <th>tag_Family_Friendly</th>\n",
       "      <td>12101.0</td>\n",
       "      <td>0.097017</td>\n",
       "      <td>0.295993</td>\n",
       "      <td>0.000</td>\n",
       "      <td>0.000</td>\n",
       "      <td>0.000</td>\n",
       "      <td>0.000</td>\n",
       "      <td>1.000</td>\n",
       "    </tr>\n",
       "    <tr>\n",
       "      <th>tag_Short_Episodes</th>\n",
       "      <td>12101.0</td>\n",
       "      <td>0.096934</td>\n",
       "      <td>0.295880</td>\n",
       "      <td>0.000</td>\n",
       "      <td>0.000</td>\n",
       "      <td>0.000</td>\n",
       "      <td>0.000</td>\n",
       "      <td>1.000</td>\n",
       "    </tr>\n",
       "    <tr>\n",
       "      <th>tag_School_Life</th>\n",
       "      <td>12101.0</td>\n",
       "      <td>0.092306</td>\n",
       "      <td>0.289470</td>\n",
       "      <td>0.000</td>\n",
       "      <td>0.000</td>\n",
       "      <td>0.000</td>\n",
       "      <td>0.000</td>\n",
       "      <td>1.000</td>\n",
       "    </tr>\n",
       "    <tr>\n",
       "      <th>tag_Romance</th>\n",
       "      <td>12101.0</td>\n",
       "      <td>0.092141</td>\n",
       "      <td>0.289237</td>\n",
       "      <td>0.000</td>\n",
       "      <td>0.000</td>\n",
       "      <td>0.000</td>\n",
       "      <td>0.000</td>\n",
       "      <td>1.000</td>\n",
       "    </tr>\n",
       "    <tr>\n",
       "      <th>tag_Shorts</th>\n",
       "      <td>12101.0</td>\n",
       "      <td>0.089662</td>\n",
       "      <td>0.285709</td>\n",
       "      <td>0.000</td>\n",
       "      <td>0.000</td>\n",
       "      <td>0.000</td>\n",
       "      <td>0.000</td>\n",
       "      <td>1.000</td>\n",
       "    </tr>\n",
       "    <tr>\n",
       "      <th>tag_Slice_of_Life</th>\n",
       "      <td>12101.0</td>\n",
       "      <td>0.080820</td>\n",
       "      <td>0.272569</td>\n",
       "      <td>0.000</td>\n",
       "      <td>0.000</td>\n",
       "      <td>0.000</td>\n",
       "      <td>0.000</td>\n",
       "      <td>1.000</td>\n",
       "    </tr>\n",
       "    <tr>\n",
       "      <th>tag_Seinen</th>\n",
       "      <td>12101.0</td>\n",
       "      <td>0.077101</td>\n",
       "      <td>0.266763</td>\n",
       "      <td>0.000</td>\n",
       "      <td>0.000</td>\n",
       "      <td>0.000</td>\n",
       "      <td>0.000</td>\n",
       "      <td>1.000</td>\n",
       "    </tr>\n",
       "    <tr>\n",
       "      <th>tag_Supernatural</th>\n",
       "      <td>12101.0</td>\n",
       "      <td>0.070903</td>\n",
       "      <td>0.256674</td>\n",
       "      <td>0.000</td>\n",
       "      <td>0.000</td>\n",
       "      <td>0.000</td>\n",
       "      <td>0.000</td>\n",
       "      <td>1.000</td>\n",
       "    </tr>\n",
       "    <tr>\n",
       "      <th>tag_Magic</th>\n",
       "      <td>12101.0</td>\n",
       "      <td>0.064292</td>\n",
       "      <td>0.245283</td>\n",
       "      <td>0.000</td>\n",
       "      <td>0.000</td>\n",
       "      <td>0.000</td>\n",
       "      <td>0.000</td>\n",
       "      <td>1.000</td>\n",
       "    </tr>\n",
       "    <tr>\n",
       "      <th>tag_Animal_Protagonists</th>\n",
       "      <td>12101.0</td>\n",
       "      <td>0.060326</td>\n",
       "      <td>0.238099</td>\n",
       "      <td>0.000</td>\n",
       "      <td>0.000</td>\n",
       "      <td>0.000</td>\n",
       "      <td>0.000</td>\n",
       "      <td>1.000</td>\n",
       "    </tr>\n",
       "    <tr>\n",
       "      <th>tag_Ecchi</th>\n",
       "      <td>12101.0</td>\n",
       "      <td>0.057433</td>\n",
       "      <td>0.232678</td>\n",
       "      <td>0.000</td>\n",
       "      <td>0.000</td>\n",
       "      <td>0.000</td>\n",
       "      <td>0.000</td>\n",
       "      <td>1.000</td>\n",
       "    </tr>\n",
       "    <tr>\n",
       "      <th>tag_Mecha</th>\n",
       "      <td>12101.0</td>\n",
       "      <td>0.054541</td>\n",
       "      <td>0.227091</td>\n",
       "      <td>0.000</td>\n",
       "      <td>0.000</td>\n",
       "      <td>0.000</td>\n",
       "      <td>0.000</td>\n",
       "      <td>1.000</td>\n",
       "    </tr>\n",
       "    <tr>\n",
       "      <th>tag_Based_on_a_Light_Novel</th>\n",
       "      <td>12101.0</td>\n",
       "      <td>0.053384</td>\n",
       "      <td>0.224807</td>\n",
       "      <td>0.000</td>\n",
       "      <td>0.000</td>\n",
       "      <td>0.000</td>\n",
       "      <td>0.000</td>\n",
       "      <td>1.000</td>\n",
       "    </tr>\n",
       "    <tr>\n",
       "      <th>tag_CG_Animation</th>\n",
       "      <td>12101.0</td>\n",
       "      <td>0.050079</td>\n",
       "      <td>0.218116</td>\n",
       "      <td>0.000</td>\n",
       "      <td>0.000</td>\n",
       "      <td>0.000</td>\n",
       "      <td>0.000</td>\n",
       "      <td>1.000</td>\n",
       "    </tr>\n",
       "    <tr>\n",
       "      <th>tag_Superpowers</th>\n",
       "      <td>12101.0</td>\n",
       "      <td>0.044624</td>\n",
       "      <td>0.206486</td>\n",
       "      <td>0.000</td>\n",
       "      <td>0.000</td>\n",
       "      <td>0.000</td>\n",
       "      <td>0.000</td>\n",
       "      <td>1.000</td>\n",
       "    </tr>\n",
       "    <tr>\n",
       "      <th>tag_Others</th>\n",
       "      <td>12101.0</td>\n",
       "      <td>0.090654</td>\n",
       "      <td>0.287128</td>\n",
       "      <td>0.000</td>\n",
       "      <td>0.000</td>\n",
       "      <td>0.000</td>\n",
       "      <td>0.000</td>\n",
       "      <td>1.000</td>\n",
       "    </tr>\n",
       "    <tr>\n",
       "      <th>tag_missing</th>\n",
       "      <td>12101.0</td>\n",
       "      <td>0.025866</td>\n",
       "      <td>0.158741</td>\n",
       "      <td>0.000</td>\n",
       "      <td>0.000</td>\n",
       "      <td>0.000</td>\n",
       "      <td>0.000</td>\n",
       "      <td>1.000</td>\n",
       "    </tr>\n",
       "  </tbody>\n",
       "</table>\n",
       "</div>"
      ],
      "text/plain": [
       "                              count         mean          std     min     25%  \\\n",
       "eps                         12101.0    13.393356    57.925097   1.000   1.000   \n",
       "duration                     7465.0    24.230141    31.468171   1.000   4.000   \n",
       "years_running               12101.0     0.283200     1.152234   0.000   0.000   \n",
       "studios_colab               12101.0     0.051649     0.221326   0.000   0.000   \n",
       "contentWarn                 12101.0     0.115362     0.319472   0.000   0.000   \n",
       "watched                     12101.0  2862.605694  7724.347024   0.000  55.000   \n",
       "watching                    12101.0   256.334435  1380.840902   0.000   2.000   \n",
       "wantWatch                   12101.0  1203.681431  2294.327380   0.000  49.000   \n",
       "dropped                     12101.0   151.568383   493.931710   0.000   3.000   \n",
       "rating                      12101.0     2.949037     0.827385   0.844   2.304   \n",
       "votes                       12101.0  2088.124700  5950.332228  10.000  34.000   \n",
       "tag_Based_on_a_Manga        12101.0     0.290802     0.454151   0.000   0.000   \n",
       "tag_Comedy                  12101.0     0.272870     0.445453   0.000   0.000   \n",
       "tag_Action                  12101.0     0.231221     0.421631   0.000   0.000   \n",
       "tag_Fantasy                 12101.0     0.181555     0.385493   0.000   0.000   \n",
       "tag_Sci_Fi                  12101.0     0.166267     0.372336   0.000   0.000   \n",
       "tag_Shounen                 12101.0     0.144864     0.351978   0.000   0.000   \n",
       "tag_Original_Work           12101.0     0.135195     0.341946   0.000   0.000   \n",
       "tag_Non_Human_Protagonists  12101.0     0.112470     0.315957   0.000   0.000   \n",
       "tag_Drama                   12101.0     0.106107     0.307987   0.000   0.000   \n",
       "tag_Adventure               12101.0     0.103793     0.305005   0.000   0.000   \n",
       "tag_Family_Friendly         12101.0     0.097017     0.295993   0.000   0.000   \n",
       "tag_Short_Episodes          12101.0     0.096934     0.295880   0.000   0.000   \n",
       "tag_School_Life             12101.0     0.092306     0.289470   0.000   0.000   \n",
       "tag_Romance                 12101.0     0.092141     0.289237   0.000   0.000   \n",
       "tag_Shorts                  12101.0     0.089662     0.285709   0.000   0.000   \n",
       "tag_Slice_of_Life           12101.0     0.080820     0.272569   0.000   0.000   \n",
       "tag_Seinen                  12101.0     0.077101     0.266763   0.000   0.000   \n",
       "tag_Supernatural            12101.0     0.070903     0.256674   0.000   0.000   \n",
       "tag_Magic                   12101.0     0.064292     0.245283   0.000   0.000   \n",
       "tag_Animal_Protagonists     12101.0     0.060326     0.238099   0.000   0.000   \n",
       "tag_Ecchi                   12101.0     0.057433     0.232678   0.000   0.000   \n",
       "tag_Mecha                   12101.0     0.054541     0.227091   0.000   0.000   \n",
       "tag_Based_on_a_Light_Novel  12101.0     0.053384     0.224807   0.000   0.000   \n",
       "tag_CG_Animation            12101.0     0.050079     0.218116   0.000   0.000   \n",
       "tag_Superpowers             12101.0     0.044624     0.206486   0.000   0.000   \n",
       "tag_Others                  12101.0     0.090654     0.287128   0.000   0.000   \n",
       "tag_missing                 12101.0     0.025866     0.158741   0.000   0.000   \n",
       "\n",
       "                                50%       75%         max  \n",
       "eps                           2.000    12.000    2527.000  \n",
       "duration                      8.000    30.000     163.000  \n",
       "years_running                 0.000     0.000      51.000  \n",
       "studios_colab                 0.000     0.000       1.000  \n",
       "contentWarn                   0.000     0.000       1.000  \n",
       "watched                     341.000  2026.000  161567.000  \n",
       "watching                     14.000   100.000   74537.000  \n",
       "wantWatch                   296.000  1275.000   28541.000  \n",
       "dropped                      12.000    65.000   19481.000  \n",
       "rating                        2.965     3.616       4.702  \n",
       "votes                       219.000  1414.000  131067.000  \n",
       "tag_Based_on_a_Manga          0.000     1.000       1.000  \n",
       "tag_Comedy                    0.000     1.000       1.000  \n",
       "tag_Action                    0.000     0.000       1.000  \n",
       "tag_Fantasy                   0.000     0.000       1.000  \n",
       "tag_Sci_Fi                    0.000     0.000       1.000  \n",
       "tag_Shounen                   0.000     0.000       1.000  \n",
       "tag_Original_Work             0.000     0.000       1.000  \n",
       "tag_Non_Human_Protagonists    0.000     0.000       1.000  \n",
       "tag_Drama                     0.000     0.000       1.000  \n",
       "tag_Adventure                 0.000     0.000       1.000  \n",
       "tag_Family_Friendly           0.000     0.000       1.000  \n",
       "tag_Short_Episodes            0.000     0.000       1.000  \n",
       "tag_School_Life               0.000     0.000       1.000  \n",
       "tag_Romance                   0.000     0.000       1.000  \n",
       "tag_Shorts                    0.000     0.000       1.000  \n",
       "tag_Slice_of_Life             0.000     0.000       1.000  \n",
       "tag_Seinen                    0.000     0.000       1.000  \n",
       "tag_Supernatural              0.000     0.000       1.000  \n",
       "tag_Magic                     0.000     0.000       1.000  \n",
       "tag_Animal_Protagonists       0.000     0.000       1.000  \n",
       "tag_Ecchi                     0.000     0.000       1.000  \n",
       "tag_Mecha                     0.000     0.000       1.000  \n",
       "tag_Based_on_a_Light_Novel    0.000     0.000       1.000  \n",
       "tag_CG_Animation              0.000     0.000       1.000  \n",
       "tag_Superpowers               0.000     0.000       1.000  \n",
       "tag_Others                    0.000     0.000       1.000  \n",
       "tag_missing                   0.000     0.000       1.000  "
      ]
     },
     "execution_count": 18,
     "metadata": {},
     "output_type": "execute_result"
    }
   ],
   "source": [
    "dataset.describe().T"
   ]
  },
  {
   "cell_type": "code",
   "execution_count": 19,
   "id": "b48dbe38",
   "metadata": {
    "ExecuteTime": {
     "end_time": "2022-11-04T15:41:36.158250Z",
     "start_time": "2022-11-04T15:41:36.152539Z"
    }
   },
   "outputs": [],
   "source": [
    "dataset.drop(columns = ['title', 'description'], axis=1, inplace=True)"
   ]
  },
  {
   "cell_type": "code",
   "execution_count": 20,
   "id": "c948438a",
   "metadata": {
    "ExecuteTime": {
     "end_time": "2022-11-04T15:41:36.191497Z",
     "start_time": "2022-11-04T15:41:36.163244Z"
    }
   },
   "outputs": [
    {
     "data": {
      "text/html": [
       "<div>\n",
       "<style scoped>\n",
       "    .dataframe tbody tr th:only-of-type {\n",
       "        vertical-align: middle;\n",
       "    }\n",
       "\n",
       "    .dataframe tbody tr th {\n",
       "        vertical-align: top;\n",
       "    }\n",
       "\n",
       "    .dataframe thead th {\n",
       "        text-align: right;\n",
       "    }\n",
       "</style>\n",
       "<table border=\"1\" class=\"dataframe\">\n",
       "  <thead>\n",
       "    <tr style=\"text-align: right;\">\n",
       "      <th></th>\n",
       "      <th>mediaType</th>\n",
       "      <th>eps</th>\n",
       "      <th>duration</th>\n",
       "      <th>ongoing</th>\n",
       "      <th>sznOfRelease</th>\n",
       "      <th>years_running</th>\n",
       "      <th>studio_primary</th>\n",
       "      <th>studios_colab</th>\n",
       "      <th>contentWarn</th>\n",
       "      <th>watched</th>\n",
       "      <th>...</th>\n",
       "      <th>tag_Supernatural</th>\n",
       "      <th>tag_Magic</th>\n",
       "      <th>tag_Animal_Protagonists</th>\n",
       "      <th>tag_Ecchi</th>\n",
       "      <th>tag_Mecha</th>\n",
       "      <th>tag_Based_on_a_Light_Novel</th>\n",
       "      <th>tag_CG_Animation</th>\n",
       "      <th>tag_Superpowers</th>\n",
       "      <th>tag_Others</th>\n",
       "      <th>tag_missing</th>\n",
       "    </tr>\n",
       "  </thead>\n",
       "  <tbody>\n",
       "    <tr>\n",
       "      <th>0</th>\n",
       "      <td>TV</td>\n",
       "      <td>64</td>\n",
       "      <td>NaN</td>\n",
       "      <td>False</td>\n",
       "      <td>Spring</td>\n",
       "      <td>1</td>\n",
       "      <td>Bones</td>\n",
       "      <td>0</td>\n",
       "      <td>1</td>\n",
       "      <td>103707.0</td>\n",
       "      <td>...</td>\n",
       "      <td>0</td>\n",
       "      <td>0</td>\n",
       "      <td>0</td>\n",
       "      <td>0</td>\n",
       "      <td>0</td>\n",
       "      <td>0</td>\n",
       "      <td>0</td>\n",
       "      <td>0</td>\n",
       "      <td>0</td>\n",
       "      <td>0</td>\n",
       "    </tr>\n",
       "    <tr>\n",
       "      <th>1</th>\n",
       "      <td>Movie</td>\n",
       "      <td>1</td>\n",
       "      <td>107.0</td>\n",
       "      <td>False</td>\n",
       "      <td>is_missing</td>\n",
       "      <td>0</td>\n",
       "      <td>Others</td>\n",
       "      <td>0</td>\n",
       "      <td>0</td>\n",
       "      <td>58831.0</td>\n",
       "      <td>...</td>\n",
       "      <td>1</td>\n",
       "      <td>0</td>\n",
       "      <td>0</td>\n",
       "      <td>0</td>\n",
       "      <td>0</td>\n",
       "      <td>0</td>\n",
       "      <td>0</td>\n",
       "      <td>0</td>\n",
       "      <td>0</td>\n",
       "      <td>0</td>\n",
       "    </tr>\n",
       "    <tr>\n",
       "      <th>2</th>\n",
       "      <td>Movie</td>\n",
       "      <td>1</td>\n",
       "      <td>130.0</td>\n",
       "      <td>False</td>\n",
       "      <td>is_missing</td>\n",
       "      <td>0</td>\n",
       "      <td>Kyoto Animation</td>\n",
       "      <td>0</td>\n",
       "      <td>1</td>\n",
       "      <td>45892.0</td>\n",
       "      <td>...</td>\n",
       "      <td>0</td>\n",
       "      <td>0</td>\n",
       "      <td>0</td>\n",
       "      <td>0</td>\n",
       "      <td>0</td>\n",
       "      <td>0</td>\n",
       "      <td>0</td>\n",
       "      <td>0</td>\n",
       "      <td>0</td>\n",
       "      <td>0</td>\n",
       "    </tr>\n",
       "    <tr>\n",
       "      <th>3</th>\n",
       "      <td>TV</td>\n",
       "      <td>10</td>\n",
       "      <td>NaN</td>\n",
       "      <td>False</td>\n",
       "      <td>Fall</td>\n",
       "      <td>0</td>\n",
       "      <td>Production I.G</td>\n",
       "      <td>0</td>\n",
       "      <td>0</td>\n",
       "      <td>25134.0</td>\n",
       "      <td>...</td>\n",
       "      <td>0</td>\n",
       "      <td>0</td>\n",
       "      <td>0</td>\n",
       "      <td>0</td>\n",
       "      <td>0</td>\n",
       "      <td>0</td>\n",
       "      <td>0</td>\n",
       "      <td>0</td>\n",
       "      <td>0</td>\n",
       "      <td>0</td>\n",
       "    </tr>\n",
       "    <tr>\n",
       "      <th>4</th>\n",
       "      <td>TV</td>\n",
       "      <td>10</td>\n",
       "      <td>NaN</td>\n",
       "      <td>False</td>\n",
       "      <td>Spring</td>\n",
       "      <td>0</td>\n",
       "      <td>Others</td>\n",
       "      <td>0</td>\n",
       "      <td>1</td>\n",
       "      <td>21308.0</td>\n",
       "      <td>...</td>\n",
       "      <td>0</td>\n",
       "      <td>0</td>\n",
       "      <td>0</td>\n",
       "      <td>0</td>\n",
       "      <td>0</td>\n",
       "      <td>0</td>\n",
       "      <td>0</td>\n",
       "      <td>0</td>\n",
       "      <td>0</td>\n",
       "      <td>0</td>\n",
       "    </tr>\n",
       "  </tbody>\n",
       "</table>\n",
       "<p>5 rows × 42 columns</p>\n",
       "</div>"
      ],
      "text/plain": [
       "  mediaType  eps  duration  ongoing sznOfRelease  years_running  \\\n",
       "0        TV   64       NaN    False       Spring              1   \n",
       "1     Movie    1     107.0    False   is_missing              0   \n",
       "2     Movie    1     130.0    False   is_missing              0   \n",
       "3        TV   10       NaN    False         Fall              0   \n",
       "4        TV   10       NaN    False       Spring              0   \n",
       "\n",
       "    studio_primary  studios_colab  contentWarn   watched  ...  \\\n",
       "0            Bones              0            1  103707.0  ...   \n",
       "1           Others              0            0   58831.0  ...   \n",
       "2  Kyoto Animation              0            1   45892.0  ...   \n",
       "3   Production I.G              0            0   25134.0  ...   \n",
       "4           Others              0            1   21308.0  ...   \n",
       "\n",
       "   tag_Supernatural  tag_Magic  tag_Animal_Protagonists  tag_Ecchi  tag_Mecha  \\\n",
       "0                 0          0                        0          0          0   \n",
       "1                 1          0                        0          0          0   \n",
       "2                 0          0                        0          0          0   \n",
       "3                 0          0                        0          0          0   \n",
       "4                 0          0                        0          0          0   \n",
       "\n",
       "   tag_Based_on_a_Light_Novel  tag_CG_Animation  tag_Superpowers  tag_Others  \\\n",
       "0                           0                 0                0           0   \n",
       "1                           0                 0                0           0   \n",
       "2                           0                 0                0           0   \n",
       "3                           0                 0                0           0   \n",
       "4                           0                 0                0           0   \n",
       "\n",
       "   tag_missing  \n",
       "0            0  \n",
       "1            0  \n",
       "2            0  \n",
       "3            0  \n",
       "4            0  \n",
       "\n",
       "[5 rows x 42 columns]"
      ]
     },
     "execution_count": 20,
     "metadata": {},
     "output_type": "execute_result"
    }
   ],
   "source": [
    "dataset.head()"
   ]
  },
  {
   "cell_type": "code",
   "execution_count": 21,
   "id": "ed2d94b0",
   "metadata": {
    "ExecuteTime": {
     "end_time": "2022-11-04T15:41:36.210603Z",
     "start_time": "2022-11-04T15:41:36.198771Z"
    }
   },
   "outputs": [
    {
     "data": {
      "text/plain": [
       "count    12101.000000\n",
       "mean         2.949037\n",
       "std          0.827385\n",
       "min          0.844000\n",
       "25%          2.304000\n",
       "50%          2.965000\n",
       "75%          3.616000\n",
       "max          4.702000\n",
       "Name: rating, dtype: float64"
      ]
     },
     "execution_count": 21,
     "metadata": {},
     "output_type": "execute_result"
    }
   ],
   "source": [
    "dataset.rating.describe()"
   ]
  },
  {
   "cell_type": "code",
   "execution_count": 22,
   "id": "1a5f8b03",
   "metadata": {
    "ExecuteTime": {
     "end_time": "2022-11-04T15:41:36.254024Z",
     "start_time": "2022-11-04T15:41:36.213174Z"
    }
   },
   "outputs": [
    {
     "data": {
      "text/plain": [
       "(7465, 42)"
      ]
     },
     "execution_count": 22,
     "metadata": {},
     "output_type": "execute_result"
    }
   ],
   "source": [
    "dataset.dropna(inplace=True)\n",
    "dataset.shape"
   ]
  },
  {
   "cell_type": "code",
   "execution_count": 23,
   "id": "e2e5d629",
   "metadata": {
    "ExecuteTime": {
     "end_time": "2022-11-04T15:41:36.263315Z",
     "start_time": "2022-11-04T15:41:36.257664Z"
    }
   },
   "outputs": [
    {
     "data": {
      "text/plain": [
       "4535"
      ]
     },
     "execution_count": 23,
     "metadata": {},
     "output_type": "execute_result"
    }
   ],
   "source": [
    "12000-7465"
   ]
  },
  {
   "cell_type": "code",
   "execution_count": 24,
   "id": "aa3c6f2d",
   "metadata": {
    "ExecuteTime": {
     "end_time": "2022-11-04T15:41:36.276477Z",
     "start_time": "2022-11-04T15:41:36.268187Z"
    }
   },
   "outputs": [],
   "source": [
    "def continuos_univariate_analysis(data,\n",
    "                                  feature,\n",
    "                                  figsize=(12, 8),\n",
    "                                  kde=False,\n",
    "                                  bins=None):\n",
    "    f1, (ax_box,\n",
    "         ax_hist) = plt.subplots(nrows=2,\n",
    "                                 sharex=True,\n",
    "                                 gridspec_kw={'height_ratios': (0.25, 0.75)},\n",
    "                                 figsize=figsize)\n",
    "    sns.color_palette(\"viridis\", as_cmap=True)\n",
    "    sns.boxplot(data=data,\n",
    "                x=feature,\n",
    "                ax=ax_box,\n",
    "                showmeans=True,\n",
    "                color='yellow')\n",
    "    sns.histplot(data=data,\n",
    "                 x=feature,\n",
    "                 ax=ax_hist,\n",
    "                 showmeans=True,\n",
    "                 color='crest',\n",
    "                 bins=bins,\n",
    "                 kde=kde) if bins else sns.histplot(\n",
    "                     data=data, x=feature, ax=ax_hist, kde=kde, color='blue')\n",
    "    ax_hist.axvline(data[feature].mean(), color='cyan', linestyle='--')\n",
    "    ax_hist.axvline(data[feature].median(), color='orange', linestyle=\"-\")"
   ]
  },
  {
   "cell_type": "code",
   "execution_count": 25,
   "id": "57262880",
   "metadata": {
    "ExecuteTime": {
     "end_time": "2022-11-04T15:41:36.287042Z",
     "start_time": "2022-11-04T15:41:36.278986Z"
    }
   },
   "outputs": [],
   "source": [
    "def discrete_univariate_analysis(data, feature, perc=False, n=None):\n",
    "    total = len(data[feature])\n",
    "    count = data[feature].nunique()\n",
    "    if n is None:\n",
    "        plt.figure(figsize=(count + 1, 5))\n",
    "    else:\n",
    "        plt.figure(figsize=(n + 1, 5))\n",
    "    plt.xticks(rotation=90, fontsize=15)\n",
    "    ax = sns.countplot(\n",
    "        data=data,\n",
    "        x=feature,\n",
    "        palette=\"flare\",\n",
    "        order=data[feature].value_counts().index[:n].sort_values(\n",
    "            ascending=False))\n",
    "    for p in ax.patches:\n",
    "        if perc == True:\n",
    "            label = \"{:.1f}%\".format(100 * p.get_height() / total)\n",
    "        else:\n",
    "            label = p.get_height()\n",
    "        x = p.get_x() + p.get_width() / 2\n",
    "        y = p.get_height()\n",
    "        ax.annotate(label, (x, y),\n",
    "                    ha=\"center\",\n",
    "                    va=\"center\",\n",
    "                    size=12,\n",
    "                    xytext=(0, 5),\n",
    "                    textcoords=\"offset points\")\n",
    "    plt.show()"
   ]
  },
  {
   "cell_type": "code",
   "execution_count": 26,
   "id": "58fd8e2b",
   "metadata": {
    "ExecuteTime": {
     "end_time": "2022-11-04T15:41:36.310510Z",
     "start_time": "2022-11-04T15:41:36.291540Z"
    }
   },
   "outputs": [
    {
     "data": {
      "text/plain": [
       "Index(['mediaType', 'eps', 'duration', 'ongoing', 'sznOfRelease',\n",
       "       'years_running', 'studio_primary', 'studios_colab', 'contentWarn',\n",
       "       'watched', 'watching', 'wantWatch', 'dropped', 'rating', 'votes',\n",
       "       'tag_Based_on_a_Manga', 'tag_Comedy', 'tag_Action', 'tag_Fantasy',\n",
       "       'tag_Sci_Fi', 'tag_Shounen', 'tag_Original_Work',\n",
       "       'tag_Non_Human_Protagonists', 'tag_Drama', 'tag_Adventure',\n",
       "       'tag_Family_Friendly', 'tag_Short_Episodes', 'tag_School_Life',\n",
       "       'tag_Romance', 'tag_Shorts', 'tag_Slice_of_Life', 'tag_Seinen',\n",
       "       'tag_Supernatural', 'tag_Magic', 'tag_Animal_Protagonists', 'tag_Ecchi',\n",
       "       'tag_Mecha', 'tag_Based_on_a_Light_Novel', 'tag_CG_Animation',\n",
       "       'tag_Superpowers', 'tag_Others', 'tag_missing'],\n",
       "      dtype='object')"
      ]
     },
     "execution_count": 26,
     "metadata": {},
     "output_type": "execute_result"
    }
   ],
   "source": [
    "dataset.columns"
   ]
  },
  {
   "cell_type": "code",
   "execution_count": 27,
   "id": "4f21d7be",
   "metadata": {
    "ExecuteTime": {
     "end_time": "2022-11-04T15:41:36.639993Z",
     "start_time": "2022-11-04T15:41:36.315176Z"
    }
   },
   "outputs": [
    {
     "ename": "NameError",
     "evalue": "name 'plt' is not defined",
     "output_type": "error",
     "traceback": [
      "\u001b[1;31m---------------------------------------------------------------------------\u001b[0m",
      "\u001b[1;31mNameError\u001b[0m                                 Traceback (most recent call last)",
      "Cell \u001b[1;32mIn[27], line 1\u001b[0m\n\u001b[1;32m----> 1\u001b[0m \u001b[43mcontinuos_univariate_analysis\u001b[49m\u001b[43m(\u001b[49m\u001b[43mdataset\u001b[49m\u001b[43m,\u001b[49m\u001b[43m \u001b[49m\u001b[38;5;124;43m'\u001b[39;49m\u001b[38;5;124;43mrating\u001b[39;49m\u001b[38;5;124;43m'\u001b[39;49m\u001b[43m)\u001b[49m\n",
      "Cell \u001b[1;32mIn[24], line 7\u001b[0m, in \u001b[0;36mcontinuos_univariate_analysis\u001b[1;34m(data, feature, figsize, kde, bins)\u001b[0m\n\u001b[0;32m      1\u001b[0m \u001b[38;5;28;01mdef\u001b[39;00m \u001b[38;5;21mcontinuos_univariate_analysis\u001b[39m(data,\n\u001b[0;32m      2\u001b[0m                                   feature,\n\u001b[0;32m      3\u001b[0m                                   figsize\u001b[38;5;241m=\u001b[39m(\u001b[38;5;241m12\u001b[39m, \u001b[38;5;241m8\u001b[39m),\n\u001b[0;32m      4\u001b[0m                                   kde\u001b[38;5;241m=\u001b[39m\u001b[38;5;28;01mFalse\u001b[39;00m,\n\u001b[0;32m      5\u001b[0m                                   bins\u001b[38;5;241m=\u001b[39m\u001b[38;5;28;01mNone\u001b[39;00m):\n\u001b[0;32m      6\u001b[0m     f1, (ax_box,\n\u001b[1;32m----> 7\u001b[0m          ax_hist) \u001b[38;5;241m=\u001b[39m \u001b[43mplt\u001b[49m\u001b[38;5;241m.\u001b[39msubplots(nrows\u001b[38;5;241m=\u001b[39m\u001b[38;5;241m2\u001b[39m,\n\u001b[0;32m      8\u001b[0m                                  sharex\u001b[38;5;241m=\u001b[39m\u001b[38;5;28;01mTrue\u001b[39;00m,\n\u001b[0;32m      9\u001b[0m                                  gridspec_kw\u001b[38;5;241m=\u001b[39m{\u001b[38;5;124m'\u001b[39m\u001b[38;5;124mheight_ratios\u001b[39m\u001b[38;5;124m'\u001b[39m: (\u001b[38;5;241m0.25\u001b[39m, \u001b[38;5;241m0.75\u001b[39m)},\n\u001b[0;32m     10\u001b[0m                                  figsize\u001b[38;5;241m=\u001b[39mfigsize)\n\u001b[0;32m     11\u001b[0m     sns\u001b[38;5;241m.\u001b[39mcolor_palette(\u001b[38;5;124m\"\u001b[39m\u001b[38;5;124mviridis\u001b[39m\u001b[38;5;124m\"\u001b[39m, as_cmap\u001b[38;5;241m=\u001b[39m\u001b[38;5;28;01mTrue\u001b[39;00m)\n\u001b[0;32m     12\u001b[0m     sns\u001b[38;5;241m.\u001b[39mboxplot(data\u001b[38;5;241m=\u001b[39mdata,\n\u001b[0;32m     13\u001b[0m                 x\u001b[38;5;241m=\u001b[39mfeature,\n\u001b[0;32m     14\u001b[0m                 ax\u001b[38;5;241m=\u001b[39max_box,\n\u001b[0;32m     15\u001b[0m                 showmeans\u001b[38;5;241m=\u001b[39m\u001b[38;5;28;01mTrue\u001b[39;00m,\n\u001b[0;32m     16\u001b[0m                 color\u001b[38;5;241m=\u001b[39m\u001b[38;5;124m'\u001b[39m\u001b[38;5;124myellow\u001b[39m\u001b[38;5;124m'\u001b[39m)\n",
      "\u001b[1;31mNameError\u001b[0m: name 'plt' is not defined"
     ]
    }
   ],
   "source": [
    "continuos_univariate_analysis(dataset, 'rating')"
   ]
  },
  {
   "cell_type": "code",
   "execution_count": null,
   "id": "be5e392b",
   "metadata": {
    "ExecuteTime": {
     "end_time": "2022-11-04T15:41:36.965774Z",
     "start_time": "2022-11-04T15:41:36.642764Z"
    }
   },
   "outputs": [],
   "source": [
    "continuos_univariate_analysis(dataset, 'duration')"
   ]
  },
  {
   "cell_type": "code",
   "execution_count": null,
   "id": "1a4a16ce",
   "metadata": {
    "ExecuteTime": {
     "end_time": "2022-11-04T15:41:36.974829Z",
     "start_time": "2022-11-04T15:41:36.967751Z"
    }
   },
   "outputs": [],
   "source": [
    "dataset[dataset['duration'] >=80]['rating'].mean()"
   ]
  },
  {
   "cell_type": "code",
   "execution_count": null,
   "id": "0addfdb4",
   "metadata": {
    "ExecuteTime": {
     "end_time": "2022-11-04T15:41:36.986617Z",
     "start_time": "2022-11-04T15:41:36.976562Z"
    }
   },
   "outputs": [],
   "source": [
    "dataset[dataset['duration'] >=100]['rating'].mean()"
   ]
  },
  {
   "cell_type": "code",
   "execution_count": null,
   "id": "06e1dc9b",
   "metadata": {
    "ExecuteTime": {
     "end_time": "2022-11-04T15:41:36.998734Z",
     "start_time": "2022-11-04T15:41:36.989627Z"
    }
   },
   "outputs": [],
   "source": [
    "dataset[dataset['duration'] >=110]['rating'].mean()"
   ]
  },
  {
   "cell_type": "code",
   "execution_count": null,
   "id": "c24d55d1",
   "metadata": {
    "ExecuteTime": {
     "end_time": "2022-11-04T15:41:37.013523Z",
     "start_time": "2022-11-04T15:41:37.002139Z"
    }
   },
   "outputs": [],
   "source": [
    "dataset[(dataset['duration'] >=5) & (dataset['duration']<=30)]['rating'].mean()"
   ]
  },
  {
   "cell_type": "code",
   "execution_count": null,
   "id": "05acbba0",
   "metadata": {},
   "outputs": [],
   "source": [
    "dataset['Duration_category'] = pd.cut(dataset['duration'], bins = [0,20,40, 60, 80, 200],\\\n",
    "                                 labels = ['0-20', '20-40', '40-60', '60-80', '>80'])"
   ]
  },
  {
   "cell_type": "code",
   "execution_count": null,
   "id": "fa9f80a8",
   "metadata": {},
   "outputs": [],
   "source": [
    "exp = dataset.groupby(['mediaType', 'Duration_category']).agg({'rating' : ['mean']}).reset_index()"
   ]
  },
  {
   "cell_type": "code",
   "execution_count": null,
   "id": "41665cbf",
   "metadata": {},
   "outputs": [],
   "source": [
    "exp.columns = exp.columns.droplevel(0)"
   ]
  },
  {
   "cell_type": "code",
   "execution_count": null,
   "id": "1c188f4b",
   "metadata": {},
   "outputs": [],
   "source": [
    "exp.columns = ['Mediatype', 'duration', 'rating']"
   ]
  },
  {
   "cell_type": "code",
   "execution_count": null,
   "id": "7367205a",
   "metadata": {},
   "outputs": [],
   "source": [
    "exp.pivot_table(columns='duration', values='rating', index='Mediatype')"
   ]
  },
  {
   "cell_type": "code",
   "execution_count": null,
   "id": "c161217c",
   "metadata": {
    "ExecuteTime": {
     "end_time": "2022-11-04T15:41:37.228487Z",
     "start_time": "2022-11-04T15:41:37.020591Z"
    }
   },
   "outputs": [],
   "source": [
    "discrete_univariate_analysis(dataset, \"ongoing\", perc=True)"
   ]
  },
  {
   "cell_type": "code",
   "execution_count": null,
   "id": "2c268d91",
   "metadata": {
    "ExecuteTime": {
     "end_time": "2022-11-04T15:41:37.236963Z",
     "start_time": "2022-11-04T15:41:37.230924Z"
    }
   },
   "outputs": [],
   "source": [
    "dataset[dataset['ongoing'] == True]['rating'].mean()"
   ]
  },
  {
   "cell_type": "code",
   "execution_count": null,
   "id": "74608b64",
   "metadata": {
    "ExecuteTime": {
     "end_time": "2022-11-04T15:41:37.252181Z",
     "start_time": "2022-11-04T15:41:37.239207Z"
    }
   },
   "outputs": [],
   "source": [
    "dataset[dataset['ongoing'] == True]['duration'].mean()"
   ]
  },
  {
   "cell_type": "code",
   "execution_count": null,
   "id": "5960d1e8",
   "metadata": {
    "ExecuteTime": {
     "end_time": "2022-11-04T15:41:37.448609Z",
     "start_time": "2022-11-04T15:41:37.262858Z"
    }
   },
   "outputs": [],
   "source": [
    "discrete_univariate_analysis(dataset, \"sznOfRelease\", perc=True)"
   ]
  },
  {
   "cell_type": "code",
   "execution_count": null,
   "id": "58f6d0fc",
   "metadata": {
    "ExecuteTime": {
     "end_time": "2022-11-04T15:41:41.139768Z",
     "start_time": "2022-11-04T15:41:40.797595Z"
    }
   },
   "outputs": [],
   "source": [
    "discrete_univariate_analysis(dataset, \"studio_primary\", perc=True)"
   ]
  },
  {
   "cell_type": "code",
   "execution_count": null,
   "id": "7df92dc4",
   "metadata": {
    "ExecuteTime": {
     "end_time": "2022-11-04T15:42:54.873194Z",
     "start_time": "2022-11-04T15:42:54.859459Z"
    }
   },
   "outputs": [],
   "source": [
    "dataset[dataset['rating'] > 4]['studio_primary'].value_counts(normalize=True).mul(100).round(2)"
   ]
  },
  {
   "cell_type": "code",
   "execution_count": null,
   "id": "d3b4a662",
   "metadata": {
    "ExecuteTime": {
     "end_time": "2022-11-04T15:44:50.888793Z",
     "start_time": "2022-11-04T15:44:50.746885Z"
    }
   },
   "outputs": [],
   "source": [
    "discrete_univariate_analysis(dataset, 'contentWarn', perc=True)"
   ]
  },
  {
   "cell_type": "code",
   "execution_count": 28,
   "id": "deaf2786",
   "metadata": {
    "ExecuteTime": {
     "end_time": "2022-11-04T15:48:48.754323Z",
     "start_time": "2022-11-04T15:48:48.748021Z"
    }
   },
   "outputs": [],
   "source": [
    "corr_cols = [item for item in dataset.columns if \"tag\" not in item]"
   ]
  },
  {
   "cell_type": "code",
   "execution_count": 29,
   "id": "04b6a022",
   "metadata": {
    "ExecuteTime": {
     "end_time": "2022-11-04T15:48:53.512345Z",
     "start_time": "2022-11-04T15:48:53.505791Z"
    }
   },
   "outputs": [
    {
     "data": {
      "text/plain": [
       "['mediaType',\n",
       " 'eps',\n",
       " 'duration',\n",
       " 'ongoing',\n",
       " 'sznOfRelease',\n",
       " 'years_running',\n",
       " 'studio_primary',\n",
       " 'studios_colab',\n",
       " 'contentWarn',\n",
       " 'watched',\n",
       " 'watching',\n",
       " 'wantWatch',\n",
       " 'dropped',\n",
       " 'rating',\n",
       " 'votes']"
      ]
     },
     "execution_count": 29,
     "metadata": {},
     "output_type": "execute_result"
    }
   ],
   "source": [
    "corr_cols"
   ]
  },
  {
   "cell_type": "code",
   "execution_count": 30,
   "id": "fe61d8ce",
   "metadata": {
    "ExecuteTime": {
     "end_time": "2022-11-04T15:58:26.809034Z",
     "start_time": "2022-11-04T15:58:25.617796Z"
    }
   },
   "outputs": [
    {
     "ename": "NameError",
     "evalue": "name 'plt' is not defined",
     "output_type": "error",
     "traceback": [
      "\u001b[1;31m---------------------------------------------------------------------------\u001b[0m",
      "\u001b[1;31mNameError\u001b[0m                                 Traceback (most recent call last)",
      "Cell \u001b[1;32mIn[30], line 1\u001b[0m\n\u001b[1;32m----> 1\u001b[0m \u001b[43mplt\u001b[49m\u001b[38;5;241m.\u001b[39mfigure(figsize\u001b[38;5;241m=\u001b[39m(\u001b[38;5;241m16\u001b[39m,\u001b[38;5;241m7\u001b[39m))\n\u001b[0;32m      2\u001b[0m sns\u001b[38;5;241m.\u001b[39mheatmap(dataset[corr_cols]\u001b[38;5;241m.\u001b[39mcorr(), annot\u001b[38;5;241m=\u001b[39m\u001b[38;5;28;01mTrue\u001b[39;00m, vmin \u001b[38;5;241m=\u001b[39m \u001b[38;5;241m-\u001b[39m\u001b[38;5;241m1\u001b[39m, vmax\u001b[38;5;241m=\u001b[39m \u001b[38;5;241m1\u001b[39m, fmt\u001b[38;5;241m=\u001b[39m\u001b[38;5;124m'\u001b[39m\u001b[38;5;124m.2f\u001b[39m\u001b[38;5;124m'\u001b[39m, cmap\u001b[38;5;241m=\u001b[39m\u001b[38;5;124m'\u001b[39m\u001b[38;5;124mSpectral\u001b[39m\u001b[38;5;124m'\u001b[39m)\n\u001b[0;32m      3\u001b[0m plt\u001b[38;5;241m.\u001b[39mshow()\n",
      "\u001b[1;31mNameError\u001b[0m: name 'plt' is not defined"
     ]
    }
   ],
   "source": [
    "plt.figure(figsize=(16,7))\n",
    "sns.heatmap(dataset[corr_cols].corr(), annot=True, vmin = -1, vmax= 1, fmt='.2f', cmap='Spectral')\n",
    "plt.show()"
   ]
  },
  {
   "cell_type": "code",
   "execution_count": 31,
   "id": "a21f0b02",
   "metadata": {
    "ExecuteTime": {
     "end_time": "2022-11-04T16:08:04.162539Z",
     "start_time": "2022-11-04T16:08:04.155976Z"
    }
   },
   "outputs": [],
   "source": [
    "dataset.drop(columns= ['eps', 'watched'], inplace=True)"
   ]
  },
  {
   "cell_type": "code",
   "execution_count": 32,
   "id": "ff28e4f9",
   "metadata": {},
   "outputs": [
    {
     "data": {
      "text/plain": [
       "(7465, 40)"
      ]
     },
     "execution_count": 32,
     "metadata": {},
     "output_type": "execute_result"
    }
   ],
   "source": [
    "dataset.shape"
   ]
  },
  {
   "cell_type": "code",
   "execution_count": 33,
   "id": "92fc5972",
   "metadata": {
    "ExecuteTime": {
     "end_time": "2022-11-04T16:10:01.944163Z",
     "start_time": "2022-11-04T16:10:01.615022Z"
    }
   },
   "outputs": [
    {
     "ename": "NameError",
     "evalue": "name 'plt' is not defined",
     "output_type": "error",
     "traceback": [
      "\u001b[1;31m---------------------------------------------------------------------------\u001b[0m",
      "\u001b[1;31mNameError\u001b[0m                                 Traceback (most recent call last)",
      "Cell \u001b[1;32mIn[33], line 1\u001b[0m\n\u001b[1;32m----> 1\u001b[0m \u001b[43mplt\u001b[49m\u001b[38;5;241m.\u001b[39mfigure(figsize\u001b[38;5;241m=\u001b[39m(\u001b[38;5;241m15\u001b[39m,\u001b[38;5;241m8\u001b[39m))\n\u001b[0;32m      2\u001b[0m sns\u001b[38;5;241m.\u001b[39mboxplot(x \u001b[38;5;241m=\u001b[39m \u001b[38;5;124m'\u001b[39m\u001b[38;5;124msznOfRelease\u001b[39m\u001b[38;5;124m'\u001b[39m, y\u001b[38;5;241m=\u001b[39m\u001b[38;5;124m'\u001b[39m\u001b[38;5;124mrating\u001b[39m\u001b[38;5;124m'\u001b[39m, data\u001b[38;5;241m=\u001b[39mdataset)\n",
      "\u001b[1;31mNameError\u001b[0m: name 'plt' is not defined"
     ]
    }
   ],
   "source": [
    "plt.figure(figsize=(15,8))\n",
    "sns.boxplot(x = 'sznOfRelease', y='rating', data=dataset)"
   ]
  },
  {
   "cell_type": "markdown",
   "id": "42455f9e",
   "metadata": {},
   "source": [
    "## Model Building - Regression"
   ]
  },
  {
   "cell_type": "code",
   "execution_count": 34,
   "id": "a3a7ab90",
   "metadata": {
    "ExecuteTime": {
     "end_time": "2022-11-04T16:13:20.018354Z",
     "start_time": "2022-11-04T16:13:20.010209Z"
    }
   },
   "outputs": [],
   "source": [
    "x = dataset.drop(['rating'], axis=1)\n",
    "y = dataset['rating']"
   ]
  },
  {
   "cell_type": "code",
   "execution_count": 35,
   "id": "26342f4b",
   "metadata": {
    "ExecuteTime": {
     "end_time": "2022-11-04T16:16:56.557982Z",
     "start_time": "2022-11-04T16:16:56.537643Z"
    }
   },
   "outputs": [
    {
     "name": "stdout",
     "output_type": "stream",
     "text": [
      "<class 'pandas.core.frame.DataFrame'>\n",
      "Index: 7465 entries, 1 to 12100\n",
      "Data columns (total 39 columns):\n",
      " #   Column                      Non-Null Count  Dtype  \n",
      "---  ------                      --------------  -----  \n",
      " 0   mediaType                   7465 non-null   object \n",
      " 1   duration                    7465 non-null   float64\n",
      " 2   ongoing                     7465 non-null   bool   \n",
      " 3   sznOfRelease                7465 non-null   object \n",
      " 4   years_running               7465 non-null   int64  \n",
      " 5   studio_primary              7465 non-null   object \n",
      " 6   studios_colab               7465 non-null   int64  \n",
      " 7   contentWarn                 7465 non-null   int64  \n",
      " 8   watching                    7465 non-null   int64  \n",
      " 9   wantWatch                   7465 non-null   int64  \n",
      " 10  dropped                     7465 non-null   int64  \n",
      " 11  votes                       7465 non-null   int64  \n",
      " 12  tag_Based_on_a_Manga        7465 non-null   int64  \n",
      " 13  tag_Comedy                  7465 non-null   int64  \n",
      " 14  tag_Action                  7465 non-null   int64  \n",
      " 15  tag_Fantasy                 7465 non-null   int64  \n",
      " 16  tag_Sci_Fi                  7465 non-null   int64  \n",
      " 17  tag_Shounen                 7465 non-null   int64  \n",
      " 18  tag_Original_Work           7465 non-null   int64  \n",
      " 19  tag_Non_Human_Protagonists  7465 non-null   int64  \n",
      " 20  tag_Drama                   7465 non-null   int64  \n",
      " 21  tag_Adventure               7465 non-null   int64  \n",
      " 22  tag_Family_Friendly         7465 non-null   int64  \n",
      " 23  tag_Short_Episodes          7465 non-null   int64  \n",
      " 24  tag_School_Life             7465 non-null   int64  \n",
      " 25  tag_Romance                 7465 non-null   int64  \n",
      " 26  tag_Shorts                  7465 non-null   int64  \n",
      " 27  tag_Slice_of_Life           7465 non-null   int64  \n",
      " 28  tag_Seinen                  7465 non-null   int64  \n",
      " 29  tag_Supernatural            7465 non-null   int64  \n",
      " 30  tag_Magic                   7465 non-null   int64  \n",
      " 31  tag_Animal_Protagonists     7465 non-null   int64  \n",
      " 32  tag_Ecchi                   7465 non-null   int64  \n",
      " 33  tag_Mecha                   7465 non-null   int64  \n",
      " 34  tag_Based_on_a_Light_Novel  7465 non-null   int64  \n",
      " 35  tag_CG_Animation            7465 non-null   int64  \n",
      " 36  tag_Superpowers             7465 non-null   int64  \n",
      " 37  tag_Others                  7465 non-null   int64  \n",
      " 38  tag_missing                 7465 non-null   int64  \n",
      "dtypes: bool(1), float64(1), int64(34), object(3)\n",
      "memory usage: 2.2+ MB\n"
     ]
    }
   ],
   "source": [
    "x.info()"
   ]
  },
  {
   "cell_type": "code",
   "execution_count": 36,
   "id": "117580d1",
   "metadata": {
    "ExecuteTime": {
     "end_time": "2022-11-04T16:15:32.693285Z",
     "start_time": "2022-11-04T16:15:32.655326Z"
    }
   },
   "outputs": [
    {
     "data": {
      "text/html": [
       "<div>\n",
       "<style scoped>\n",
       "    .dataframe tbody tr th:only-of-type {\n",
       "        vertical-align: middle;\n",
       "    }\n",
       "\n",
       "    .dataframe tbody tr th {\n",
       "        vertical-align: top;\n",
       "    }\n",
       "\n",
       "    .dataframe thead th {\n",
       "        text-align: right;\n",
       "    }\n",
       "</style>\n",
       "<table border=\"1\" class=\"dataframe\">\n",
       "  <thead>\n",
       "    <tr style=\"text-align: right;\">\n",
       "      <th></th>\n",
       "      <th>duration</th>\n",
       "      <th>ongoing</th>\n",
       "      <th>years_running</th>\n",
       "      <th>studios_colab</th>\n",
       "      <th>contentWarn</th>\n",
       "      <th>watching</th>\n",
       "      <th>wantWatch</th>\n",
       "      <th>dropped</th>\n",
       "      <th>votes</th>\n",
       "      <th>tag_Based_on_a_Manga</th>\n",
       "      <th>...</th>\n",
       "      <th>studio_primary_Shaft</th>\n",
       "      <th>studio_primary_Shin-Ei Animation</th>\n",
       "      <th>studio_primary_Studio Deen</th>\n",
       "      <th>studio_primary_Studio Pierrot</th>\n",
       "      <th>studio_primary_Sunrise</th>\n",
       "      <th>studio_primary_TMS Entertainment</th>\n",
       "      <th>studio_primary_Tatsunoko Production</th>\n",
       "      <th>studio_primary_Toei Animation</th>\n",
       "      <th>studio_primary_XEBEC</th>\n",
       "      <th>studio_primary_is_missing</th>\n",
       "    </tr>\n",
       "  </thead>\n",
       "  <tbody>\n",
       "    <tr>\n",
       "      <th>1</th>\n",
       "      <td>107.0</td>\n",
       "      <td>False</td>\n",
       "      <td>0</td>\n",
       "      <td>0</td>\n",
       "      <td>0</td>\n",
       "      <td>1453</td>\n",
       "      <td>21733</td>\n",
       "      <td>124</td>\n",
       "      <td>43960</td>\n",
       "      <td>0</td>\n",
       "      <td>...</td>\n",
       "      <td>False</td>\n",
       "      <td>False</td>\n",
       "      <td>False</td>\n",
       "      <td>False</td>\n",
       "      <td>False</td>\n",
       "      <td>False</td>\n",
       "      <td>False</td>\n",
       "      <td>False</td>\n",
       "      <td>False</td>\n",
       "      <td>False</td>\n",
       "    </tr>\n",
       "    <tr>\n",
       "      <th>2</th>\n",
       "      <td>130.0</td>\n",
       "      <td>False</td>\n",
       "      <td>0</td>\n",
       "      <td>0</td>\n",
       "      <td>1</td>\n",
       "      <td>946</td>\n",
       "      <td>17148</td>\n",
       "      <td>132</td>\n",
       "      <td>33752</td>\n",
       "      <td>1</td>\n",
       "      <td>...</td>\n",
       "      <td>False</td>\n",
       "      <td>False</td>\n",
       "      <td>False</td>\n",
       "      <td>False</td>\n",
       "      <td>False</td>\n",
       "      <td>False</td>\n",
       "      <td>False</td>\n",
       "      <td>False</td>\n",
       "      <td>False</td>\n",
       "      <td>False</td>\n",
       "    </tr>\n",
       "    <tr>\n",
       "      <th>8</th>\n",
       "      <td>111.0</td>\n",
       "      <td>False</td>\n",
       "      <td>0</td>\n",
       "      <td>0</td>\n",
       "      <td>0</td>\n",
       "      <td>280</td>\n",
       "      <td>6624</td>\n",
       "      <td>150</td>\n",
       "      <td>6254</td>\n",
       "      <td>1</td>\n",
       "      <td>...</td>\n",
       "      <td>False</td>\n",
       "      <td>False</td>\n",
       "      <td>False</td>\n",
       "      <td>False</td>\n",
       "      <td>True</td>\n",
       "      <td>False</td>\n",
       "      <td>False</td>\n",
       "      <td>False</td>\n",
       "      <td>False</td>\n",
       "      <td>False</td>\n",
       "    </tr>\n",
       "    <tr>\n",
       "      <th>27</th>\n",
       "      <td>125.0</td>\n",
       "      <td>False</td>\n",
       "      <td>0</td>\n",
       "      <td>0</td>\n",
       "      <td>0</td>\n",
       "      <td>589</td>\n",
       "      <td>12388</td>\n",
       "      <td>161</td>\n",
       "      <td>82752</td>\n",
       "      <td>0</td>\n",
       "      <td>...</td>\n",
       "      <td>False</td>\n",
       "      <td>False</td>\n",
       "      <td>False</td>\n",
       "      <td>False</td>\n",
       "      <td>False</td>\n",
       "      <td>False</td>\n",
       "      <td>False</td>\n",
       "      <td>False</td>\n",
       "      <td>False</td>\n",
       "      <td>False</td>\n",
       "    </tr>\n",
       "    <tr>\n",
       "      <th>31</th>\n",
       "      <td>117.0</td>\n",
       "      <td>False</td>\n",
       "      <td>0</td>\n",
       "      <td>0</td>\n",
       "      <td>0</td>\n",
       "      <td>538</td>\n",
       "      <td>15651</td>\n",
       "      <td>130</td>\n",
       "      <td>26465</td>\n",
       "      <td>0</td>\n",
       "      <td>...</td>\n",
       "      <td>False</td>\n",
       "      <td>False</td>\n",
       "      <td>False</td>\n",
       "      <td>False</td>\n",
       "      <td>False</td>\n",
       "      <td>False</td>\n",
       "      <td>False</td>\n",
       "      <td>False</td>\n",
       "      <td>False</td>\n",
       "      <td>False</td>\n",
       "    </tr>\n",
       "  </tbody>\n",
       "</table>\n",
       "<p>5 rows × 69 columns</p>\n",
       "</div>"
      ],
      "text/plain": [
       "    duration  ongoing  years_running  studios_colab  contentWarn  watching  \\\n",
       "1      107.0    False              0              0            0      1453   \n",
       "2      130.0    False              0              0            1       946   \n",
       "8      111.0    False              0              0            0       280   \n",
       "27     125.0    False              0              0            0       589   \n",
       "31     117.0    False              0              0            0       538   \n",
       "\n",
       "    wantWatch  dropped  votes  tag_Based_on_a_Manga  ...  \\\n",
       "1       21733      124  43960                     0  ...   \n",
       "2       17148      132  33752                     1  ...   \n",
       "8        6624      150   6254                     1  ...   \n",
       "27      12388      161  82752                     0  ...   \n",
       "31      15651      130  26465                     0  ...   \n",
       "\n",
       "    studio_primary_Shaft  studio_primary_Shin-Ei Animation  \\\n",
       "1                  False                             False   \n",
       "2                  False                             False   \n",
       "8                  False                             False   \n",
       "27                 False                             False   \n",
       "31                 False                             False   \n",
       "\n",
       "    studio_primary_Studio Deen  studio_primary_Studio Pierrot  \\\n",
       "1                        False                          False   \n",
       "2                        False                          False   \n",
       "8                        False                          False   \n",
       "27                       False                          False   \n",
       "31                       False                          False   \n",
       "\n",
       "    studio_primary_Sunrise  studio_primary_TMS Entertainment  \\\n",
       "1                    False                             False   \n",
       "2                    False                             False   \n",
       "8                     True                             False   \n",
       "27                   False                             False   \n",
       "31                   False                             False   \n",
       "\n",
       "    studio_primary_Tatsunoko Production  studio_primary_Toei Animation  \\\n",
       "1                                 False                          False   \n",
       "2                                 False                          False   \n",
       "8                                 False                          False   \n",
       "27                                False                          False   \n",
       "31                                False                          False   \n",
       "\n",
       "    studio_primary_XEBEC  studio_primary_is_missing  \n",
       "1                  False                      False  \n",
       "2                  False                      False  \n",
       "8                  False                      False  \n",
       "27                 False                      False  \n",
       "31                 False                      False  \n",
       "\n",
       "[5 rows x 69 columns]"
      ]
     },
     "execution_count": 36,
     "metadata": {},
     "output_type": "execute_result"
    }
   ],
   "source": [
    "x = pd.get_dummies(x, columns=x.select_dtypes(include=['object', 'category']).columns.tolist(), drop_first=True)\n",
    "x.head()"
   ]
  },
  {
   "cell_type": "code",
   "execution_count": 37,
   "id": "d540aedc",
   "metadata": {
    "ExecuteTime": {
     "end_time": "2022-11-04T16:19:53.283819Z",
     "start_time": "2022-11-04T16:19:53.276837Z"
    }
   },
   "outputs": [],
   "source": [
    "x.drop(columns='ongoing', inplace=True)"
   ]
  },
  {
   "cell_type": "code",
   "execution_count": 38,
   "id": "613a1ef4",
   "metadata": {
    "ExecuteTime": {
     "end_time": "2022-11-04T16:20:06.273653Z",
     "start_time": "2022-11-04T16:20:06.254877Z"
    }
   },
   "outputs": [
    {
     "name": "stdout",
     "output_type": "stream",
     "text": [
      "<class 'pandas.core.frame.DataFrame'>\n",
      "Index: 7465 entries, 1 to 12100\n",
      "Data columns (total 68 columns):\n",
      " #   Column                               Non-Null Count  Dtype  \n",
      "---  ------                               --------------  -----  \n",
      " 0   duration                             7465 non-null   float64\n",
      " 1   years_running                        7465 non-null   int64  \n",
      " 2   studios_colab                        7465 non-null   int64  \n",
      " 3   contentWarn                          7465 non-null   int64  \n",
      " 4   watching                             7465 non-null   int64  \n",
      " 5   wantWatch                            7465 non-null   int64  \n",
      " 6   dropped                              7465 non-null   int64  \n",
      " 7   votes                                7465 non-null   int64  \n",
      " 8   tag_Based_on_a_Manga                 7465 non-null   int64  \n",
      " 9   tag_Comedy                           7465 non-null   int64  \n",
      " 10  tag_Action                           7465 non-null   int64  \n",
      " 11  tag_Fantasy                          7465 non-null   int64  \n",
      " 12  tag_Sci_Fi                           7465 non-null   int64  \n",
      " 13  tag_Shounen                          7465 non-null   int64  \n",
      " 14  tag_Original_Work                    7465 non-null   int64  \n",
      " 15  tag_Non_Human_Protagonists           7465 non-null   int64  \n",
      " 16  tag_Drama                            7465 non-null   int64  \n",
      " 17  tag_Adventure                        7465 non-null   int64  \n",
      " 18  tag_Family_Friendly                  7465 non-null   int64  \n",
      " 19  tag_Short_Episodes                   7465 non-null   int64  \n",
      " 20  tag_School_Life                      7465 non-null   int64  \n",
      " 21  tag_Romance                          7465 non-null   int64  \n",
      " 22  tag_Shorts                           7465 non-null   int64  \n",
      " 23  tag_Slice_of_Life                    7465 non-null   int64  \n",
      " 24  tag_Seinen                           7465 non-null   int64  \n",
      " 25  tag_Supernatural                     7465 non-null   int64  \n",
      " 26  tag_Magic                            7465 non-null   int64  \n",
      " 27  tag_Animal_Protagonists              7465 non-null   int64  \n",
      " 28  tag_Ecchi                            7465 non-null   int64  \n",
      " 29  tag_Mecha                            7465 non-null   int64  \n",
      " 30  tag_Based_on_a_Light_Novel           7465 non-null   int64  \n",
      " 31  tag_CG_Animation                     7465 non-null   int64  \n",
      " 32  tag_Superpowers                      7465 non-null   int64  \n",
      " 33  tag_Others                           7465 non-null   int64  \n",
      " 34  tag_missing                          7465 non-null   int64  \n",
      " 35  mediaType_Movie                      7465 non-null   bool   \n",
      " 36  mediaType_Music Video                7465 non-null   bool   \n",
      " 37  mediaType_OVA                        7465 non-null   bool   \n",
      " 38  mediaType_Other                      7465 non-null   bool   \n",
      " 39  mediaType_TV                         7465 non-null   bool   \n",
      " 40  mediaType_TV Special                 7465 non-null   bool   \n",
      " 41  mediaType_Web                        7465 non-null   bool   \n",
      " 42  mediaType_is_missing                 7465 non-null   bool   \n",
      " 43  sznOfRelease_Spring                  7465 non-null   bool   \n",
      " 44  sznOfRelease_Summer                  7465 non-null   bool   \n",
      " 45  sznOfRelease_Winter                  7465 non-null   bool   \n",
      " 46  sznOfRelease_is_missing              7465 non-null   bool   \n",
      " 47  studio_primary_AIC                   7465 non-null   bool   \n",
      " 48  studio_primary_Bones                 7465 non-null   bool   \n",
      " 49  studio_primary_DLE                   7465 non-null   bool   \n",
      " 50  studio_primary_GONZO                 7465 non-null   bool   \n",
      " 51  studio_primary_J.C. Staff            7465 non-null   bool   \n",
      " 52  studio_primary_Kyoto Animation       7465 non-null   bool   \n",
      " 53  studio_primary_MADHOUSE              7465 non-null   bool   \n",
      " 54  studio_primary_Nippon Animation      7465 non-null   bool   \n",
      " 55  studio_primary_OLM                   7465 non-null   bool   \n",
      " 56  studio_primary_Others                7465 non-null   bool   \n",
      " 57  studio_primary_Production I.G        7465 non-null   bool   \n",
      " 58  studio_primary_Shaft                 7465 non-null   bool   \n",
      " 59  studio_primary_Shin-Ei Animation     7465 non-null   bool   \n",
      " 60  studio_primary_Studio Deen           7465 non-null   bool   \n",
      " 61  studio_primary_Studio Pierrot        7465 non-null   bool   \n",
      " 62  studio_primary_Sunrise               7465 non-null   bool   \n",
      " 63  studio_primary_TMS Entertainment     7465 non-null   bool   \n",
      " 64  studio_primary_Tatsunoko Production  7465 non-null   bool   \n",
      " 65  studio_primary_Toei Animation        7465 non-null   bool   \n",
      " 66  studio_primary_XEBEC                 7465 non-null   bool   \n",
      " 67  studio_primary_is_missing            7465 non-null   bool   \n",
      "dtypes: bool(33), float64(1), int64(34)\n",
      "memory usage: 2.3 MB\n"
     ]
    }
   ],
   "source": [
    "x.info()"
   ]
  },
  {
   "cell_type": "code",
   "execution_count": 39,
   "id": "ae8e7b71",
   "metadata": {
    "ExecuteTime": {
     "end_time": "2022-11-04T16:24:59.423537Z",
     "start_time": "2022-11-04T16:24:59.297709Z"
    }
   },
   "outputs": [
    {
     "ename": "ModuleNotFoundError",
     "evalue": "No module named 'sklearn'",
     "output_type": "error",
     "traceback": [
      "\u001b[1;31m---------------------------------------------------------------------------\u001b[0m",
      "\u001b[1;31mModuleNotFoundError\u001b[0m                       Traceback (most recent call last)",
      "Cell \u001b[1;32mIn[39], line 1\u001b[0m\n\u001b[1;32m----> 1\u001b[0m \u001b[38;5;28;01mfrom\u001b[39;00m \u001b[38;5;21;01msklearn\u001b[39;00m\u001b[38;5;21;01m.\u001b[39;00m\u001b[38;5;21;01mmodel_selection\u001b[39;00m \u001b[38;5;28;01mimport\u001b[39;00m train_test_split\n\u001b[0;32m      2\u001b[0m \u001b[38;5;28;01mfrom\u001b[39;00m \u001b[38;5;21;01msklearn\u001b[39;00m\u001b[38;5;21;01m.\u001b[39;00m\u001b[38;5;21;01mlinear_model\u001b[39;00m \u001b[38;5;28;01mimport\u001b[39;00m LinearRegression \n\u001b[0;32m      3\u001b[0m \u001b[38;5;28;01mfrom\u001b[39;00m \u001b[38;5;21;01msklearn\u001b[39;00m\u001b[38;5;21;01m.\u001b[39;00m\u001b[38;5;21;01mmetrics\u001b[39;00m \u001b[38;5;28;01mimport\u001b[39;00m mean_squared_error, r2_score, mean_absolute_error\n",
      "\u001b[1;31mModuleNotFoundError\u001b[0m: No module named 'sklearn'"
     ]
    }
   ],
   "source": [
    "from sklearn.model_selection import train_test_split\n",
    "from sklearn.linear_model import LinearRegression \n",
    "from sklearn.metrics import mean_squared_error, r2_score, mean_absolute_error"
   ]
  },
  {
   "cell_type": "code",
   "execution_count": null,
   "id": "47d5bd58",
   "metadata": {
    "ExecuteTime": {
     "end_time": "2022-11-04T16:26:47.384154Z",
     "start_time": "2022-11-04T16:26:47.357278Z"
    }
   },
   "outputs": [],
   "source": [
    "X_train, X_test, Y_train, Y_test = train_test_split(x,y, test_size=0.2, random_state=1)"
   ]
  },
  {
   "cell_type": "code",
   "execution_count": null,
   "id": "163ce46b",
   "metadata": {
    "ExecuteTime": {
     "end_time": "2022-11-04T16:27:35.225668Z",
     "start_time": "2022-11-04T16:27:35.220246Z"
    }
   },
   "outputs": [],
   "source": [
    "print(\"Number of samples for train\", X_train.shape[0])\n",
    "print(\"Number of samples for test\", X_test.shape[0])"
   ]
  },
  {
   "cell_type": "code",
   "execution_count": 40,
   "id": "47f3ff26",
   "metadata": {
    "ExecuteTime": {
     "end_time": "2022-11-04T16:28:36.360459Z",
     "start_time": "2022-11-04T16:28:35.533330Z"
    }
   },
   "outputs": [
    {
     "ename": "NameError",
     "evalue": "name 'LinearRegression' is not defined",
     "output_type": "error",
     "traceback": [
      "\u001b[1;31m---------------------------------------------------------------------------\u001b[0m",
      "\u001b[1;31mNameError\u001b[0m                                 Traceback (most recent call last)",
      "Cell \u001b[1;32mIn[40], line 1\u001b[0m\n\u001b[1;32m----> 1\u001b[0m lin_model \u001b[38;5;241m=\u001b[39m \u001b[43mLinearRegression\u001b[49m()\n\u001b[0;32m      2\u001b[0m lin_model\u001b[38;5;241m.\u001b[39mfit(X_train, Y_train)\n",
      "\u001b[1;31mNameError\u001b[0m: name 'LinearRegression' is not defined"
     ]
    }
   ],
   "source": [
    "lin_model = LinearRegression()\n",
    "lin_model.fit(X_train, Y_train)"
   ]
  },
  {
   "cell_type": "code",
   "execution_count": 41,
   "id": "2b64cee4",
   "metadata": {
    "ExecuteTime": {
     "end_time": "2022-11-04T16:31:25.219772Z",
     "start_time": "2022-11-04T16:31:25.215141Z"
    }
   },
   "outputs": [],
   "source": [
    "def Model_performance(model, predictor, target):\n",
    "    pred = model.predict(predictor)\n",
    "    r2 = r2_score(target, pred)\n",
    "    rmse = np.sqrt(mean_squared_error(target, pred))\n",
    "    \n",
    "    results= pd.DataFrame({\n",
    "        \"RMSE\":rmse, \n",
    "        \"R2 Score\":r2\n",
    "    \n",
    "    }, index=[0]\n",
    "    )\n",
    "    \n",
    "    return results"
   ]
  },
  {
   "cell_type": "code",
   "execution_count": 42,
   "id": "277c26ae",
   "metadata": {
    "ExecuteTime": {
     "end_time": "2022-11-04T16:32:54.033031Z",
     "start_time": "2022-11-04T16:32:54.018250Z"
    }
   },
   "outputs": [
    {
     "name": "stdout",
     "output_type": "stream",
     "text": [
      "Training Data Performance\n"
     ]
    },
    {
     "ename": "NameError",
     "evalue": "name 'lin_model' is not defined",
     "output_type": "error",
     "traceback": [
      "\u001b[1;31m---------------------------------------------------------------------------\u001b[0m",
      "\u001b[1;31mNameError\u001b[0m                                 Traceback (most recent call last)",
      "Cell \u001b[1;32mIn[42], line 2\u001b[0m\n\u001b[0;32m      1\u001b[0m \u001b[38;5;28mprint\u001b[39m(\u001b[38;5;124m\"\u001b[39m\u001b[38;5;124mTraining Data Performance\u001b[39m\u001b[38;5;124m\"\u001b[39m)\n\u001b[1;32m----> 2\u001b[0m lin_model_train \u001b[38;5;241m=\u001b[39m Model_performance(\u001b[43mlin_model\u001b[49m, X_train, Y_train)\n\u001b[0;32m      3\u001b[0m lin_model_train\n",
      "\u001b[1;31mNameError\u001b[0m: name 'lin_model' is not defined"
     ]
    }
   ],
   "source": [
    "print(\"Training Data Performance\")\n",
    "lin_model_train = Model_performance(lin_model, X_train, Y_train)\n",
    "lin_model_train"
   ]
  },
  {
   "cell_type": "code",
   "execution_count": 43,
   "id": "a5e760e8",
   "metadata": {
    "ExecuteTime": {
     "end_time": "2022-11-04T16:54:37.117941Z",
     "start_time": "2022-11-04T16:54:37.102950Z"
    }
   },
   "outputs": [
    {
     "name": "stdout",
     "output_type": "stream",
     "text": [
      "Test Data Performance\n"
     ]
    },
    {
     "ename": "NameError",
     "evalue": "name 'lin_model' is not defined",
     "output_type": "error",
     "traceback": [
      "\u001b[1;31m---------------------------------------------------------------------------\u001b[0m",
      "\u001b[1;31mNameError\u001b[0m                                 Traceback (most recent call last)",
      "Cell \u001b[1;32mIn[43], line 2\u001b[0m\n\u001b[0;32m      1\u001b[0m \u001b[38;5;28mprint\u001b[39m(\u001b[38;5;124m\"\u001b[39m\u001b[38;5;124mTest Data Performance\u001b[39m\u001b[38;5;124m\"\u001b[39m)\n\u001b[1;32m----> 2\u001b[0m lin_model_test \u001b[38;5;241m=\u001b[39m Model_performance(\u001b[43mlin_model\u001b[49m, X_test, Y_test)\n\u001b[0;32m      3\u001b[0m lin_model_test\n",
      "\u001b[1;31mNameError\u001b[0m: name 'lin_model' is not defined"
     ]
    }
   ],
   "source": [
    "print(\"Test Data Performance\")\n",
    "lin_model_test = Model_performance(lin_model, X_test, Y_test)\n",
    "lin_model_test"
   ]
  },
  {
   "cell_type": "code",
   "execution_count": 44,
   "id": "6c20c2ce",
   "metadata": {
    "ExecuteTime": {
     "end_time": "2022-11-04T16:35:35.608747Z",
     "start_time": "2022-11-04T16:35:35.596106Z"
    }
   },
   "outputs": [
    {
     "data": {
      "text/plain": [
       "Index(['duration', 'years_running', 'studios_colab', 'contentWarn', 'watching',\n",
       "       'wantWatch', 'dropped', 'votes', 'tag_Based_on_a_Manga', 'tag_Comedy',\n",
       "       'tag_Action', 'tag_Fantasy', 'tag_Sci_Fi', 'tag_Shounen',\n",
       "       'tag_Original_Work', 'tag_Non_Human_Protagonists', 'tag_Drama',\n",
       "       'tag_Adventure', 'tag_Family_Friendly', 'tag_Short_Episodes',\n",
       "       'tag_School_Life', 'tag_Romance', 'tag_Shorts', 'tag_Slice_of_Life',\n",
       "       'tag_Seinen', 'tag_Supernatural', 'tag_Magic',\n",
       "       'tag_Animal_Protagonists', 'tag_Ecchi', 'tag_Mecha',\n",
       "       'tag_Based_on_a_Light_Novel', 'tag_CG_Animation', 'tag_Superpowers',\n",
       "       'tag_Others', 'tag_missing', 'mediaType_Movie', 'mediaType_Music Video',\n",
       "       'mediaType_OVA', 'mediaType_Other', 'mediaType_TV',\n",
       "       'mediaType_TV Special', 'mediaType_Web', 'mediaType_is_missing',\n",
       "       'sznOfRelease_Spring', 'sznOfRelease_Summer', 'sznOfRelease_Winter',\n",
       "       'sznOfRelease_is_missing', 'studio_primary_AIC', 'studio_primary_Bones',\n",
       "       'studio_primary_DLE', 'studio_primary_GONZO',\n",
       "       'studio_primary_J.C. Staff', 'studio_primary_Kyoto Animation',\n",
       "       'studio_primary_MADHOUSE', 'studio_primary_Nippon Animation',\n",
       "       'studio_primary_OLM', 'studio_primary_Others',\n",
       "       'studio_primary_Production I.G', 'studio_primary_Shaft',\n",
       "       'studio_primary_Shin-Ei Animation', 'studio_primary_Studio Deen',\n",
       "       'studio_primary_Studio Pierrot', 'studio_primary_Sunrise',\n",
       "       'studio_primary_TMS Entertainment',\n",
       "       'studio_primary_Tatsunoko Production', 'studio_primary_Toei Animation',\n",
       "       'studio_primary_XEBEC', 'studio_primary_is_missing'],\n",
       "      dtype='object')"
      ]
     },
     "execution_count": 44,
     "metadata": {},
     "output_type": "execute_result"
    }
   ],
   "source": [
    "x.columns"
   ]
  },
  {
   "cell_type": "markdown",
   "id": "5aab5049",
   "metadata": {
    "ExecuteTime": {
     "end_time": "2022-11-04T16:34:43.639763Z",
     "start_time": "2022-11-04T16:34:43.635171Z"
    }
   },
   "source": [
    "## Feature Selection Technique"
   ]
  },
  {
   "cell_type": "markdown",
   "id": "a4d04d7b",
   "metadata": {},
   "source": [
    "1. Sequential Search - small amount of data \n",
    "2. Grid Search  - it is very expensive search algo \n",
    "3. Baseian Search -  faster but it overfits"
   ]
  },
  {
   "cell_type": "code",
   "execution_count": 45,
   "id": "ec736206",
   "metadata": {
    "ExecuteTime": {
     "end_time": "2022-11-04T16:44:24.822661Z",
     "start_time": "2022-11-04T16:43:40.714080Z"
    }
   },
   "outputs": [
    {
     "ename": "ModuleNotFoundError",
     "evalue": "No module named 'mlxtend'",
     "output_type": "error",
     "traceback": [
      "\u001b[1;31m---------------------------------------------------------------------------\u001b[0m",
      "\u001b[1;31mModuleNotFoundError\u001b[0m                       Traceback (most recent call last)",
      "Cell \u001b[1;32mIn[45], line 1\u001b[0m\n\u001b[1;32m----> 1\u001b[0m \u001b[38;5;28;01mfrom\u001b[39;00m \u001b[38;5;21;01mmlxtend\u001b[39;00m\u001b[38;5;21;01m.\u001b[39;00m\u001b[38;5;21;01mfeature_selection\u001b[39;00m \u001b[38;5;28;01mimport\u001b[39;00m SequentialFeatureSelector \u001b[38;5;28;01mas\u001b[39;00m SFS \n\u001b[0;32m      2\u001b[0m reg \u001b[38;5;241m=\u001b[39m LinearRegression()\n\u001b[0;32m      3\u001b[0m sfs \u001b[38;5;241m=\u001b[39m SFS(reg, k_features \u001b[38;5;241m=\u001b[39m X_train\u001b[38;5;241m.\u001b[39mshape[\u001b[38;5;241m1\u001b[39m], \n\u001b[0;32m      4\u001b[0m          forward \u001b[38;5;241m=\u001b[39m \u001b[38;5;28;01mTrue\u001b[39;00m, floating\u001b[38;5;241m=\u001b[39m\u001b[38;5;28;01mFalse\u001b[39;00m, scoring\u001b[38;5;241m=\u001b[39m\u001b[38;5;124m'\u001b[39m\u001b[38;5;124mr2\u001b[39m\u001b[38;5;124m'\u001b[39m, n_jobs\u001b[38;5;241m=\u001b[39m \u001b[38;5;241m-\u001b[39m\u001b[38;5;241m1\u001b[39m, cv\u001b[38;5;241m=\u001b[39m\u001b[38;5;241m5\u001b[39m)\n",
      "\u001b[1;31mModuleNotFoundError\u001b[0m: No module named 'mlxtend'"
     ]
    }
   ],
   "source": [
    "from mlxtend.feature_selection import SequentialFeatureSelector as SFS \n",
    "reg = LinearRegression()\n",
    "sfs = SFS(reg, k_features = X_train.shape[1], \n",
    "         forward = True, floating=False, scoring='r2', n_jobs= -1, cv=5)\n",
    "sfs = sfs.fit(X_train, Y_train)"
   ]
  },
  {
   "cell_type": "code",
   "execution_count": 46,
   "id": "3253fbac",
   "metadata": {
    "ExecuteTime": {
     "end_time": "2022-11-04T16:46:22.155632Z",
     "start_time": "2022-11-04T16:46:21.023107Z"
    }
   },
   "outputs": [
    {
     "ename": "ModuleNotFoundError",
     "evalue": "No module named 'mlxtend'",
     "output_type": "error",
     "traceback": [
      "\u001b[1;31m---------------------------------------------------------------------------\u001b[0m",
      "\u001b[1;31mModuleNotFoundError\u001b[0m                       Traceback (most recent call last)",
      "Cell \u001b[1;32mIn[46], line 1\u001b[0m\n\u001b[1;32m----> 1\u001b[0m \u001b[38;5;28;01mfrom\u001b[39;00m \u001b[38;5;21;01mmlxtend\u001b[39;00m\u001b[38;5;21;01m.\u001b[39;00m\u001b[38;5;21;01mplotting\u001b[39;00m \u001b[38;5;28;01mimport\u001b[39;00m plot_sequential_feature_selection \u001b[38;5;28;01mas\u001b[39;00m plot_sfs\n\u001b[0;32m      2\u001b[0m fig1 \u001b[38;5;241m=\u001b[39m plot_sfs(sfs\u001b[38;5;241m.\u001b[39mget_metric_dict(), kind\u001b[38;5;241m=\u001b[39m\u001b[38;5;124m'\u001b[39m\u001b[38;5;124mstd_err\u001b[39m\u001b[38;5;124m'\u001b[39m, figsize\u001b[38;5;241m=\u001b[39m(\u001b[38;5;241m15\u001b[39m,\u001b[38;5;241m5\u001b[39m))\n\u001b[0;32m      3\u001b[0m plt\u001b[38;5;241m.\u001b[39mtitle(\u001b[38;5;124m\"\u001b[39m\u001b[38;5;124mFEature Selector - SFS\u001b[39m\u001b[38;5;124m\"\u001b[39m)\n",
      "\u001b[1;31mModuleNotFoundError\u001b[0m: No module named 'mlxtend'"
     ]
    }
   ],
   "source": [
    "from mlxtend.plotting import plot_sequential_feature_selection as plot_sfs\n",
    "fig1 = plot_sfs(sfs.get_metric_dict(), kind='std_err', figsize=(15,5))\n",
    "plt.title(\"FEature Selector - SFS\")\n",
    "plt.xticks(rotation=90)\n",
    "plt.show()"
   ]
  },
  {
   "cell_type": "code",
   "execution_count": 47,
   "id": "0dda08fb",
   "metadata": {
    "ExecuteTime": {
     "end_time": "2022-11-04T16:47:56.845730Z",
     "start_time": "2022-11-04T16:47:40.411075Z"
    }
   },
   "outputs": [
    {
     "ename": "ModuleNotFoundError",
     "evalue": "No module named 'mlxtend'",
     "output_type": "error",
     "traceback": [
      "\u001b[1;31m---------------------------------------------------------------------------\u001b[0m",
      "\u001b[1;31mModuleNotFoundError\u001b[0m                       Traceback (most recent call last)",
      "Cell \u001b[1;32mIn[47], line 1\u001b[0m\n\u001b[1;32m----> 1\u001b[0m \u001b[38;5;28;01mfrom\u001b[39;00m \u001b[38;5;21;01mmlxtend\u001b[39;00m\u001b[38;5;21;01m.\u001b[39;00m\u001b[38;5;21;01mfeature_selection\u001b[39;00m \u001b[38;5;28;01mimport\u001b[39;00m SequentialFeatureSelector \u001b[38;5;28;01mas\u001b[39;00m SFS \n\u001b[0;32m      2\u001b[0m reg \u001b[38;5;241m=\u001b[39m LinearRegression()\n\u001b[0;32m      3\u001b[0m sfs \u001b[38;5;241m=\u001b[39m SFS(reg, k_features \u001b[38;5;241m=\u001b[39m \u001b[38;5;241m30\u001b[39m, \n\u001b[0;32m      4\u001b[0m          forward \u001b[38;5;241m=\u001b[39m \u001b[38;5;28;01mTrue\u001b[39;00m, floating\u001b[38;5;241m=\u001b[39m\u001b[38;5;28;01mFalse\u001b[39;00m, scoring\u001b[38;5;241m=\u001b[39m\u001b[38;5;124m'\u001b[39m\u001b[38;5;124mr2\u001b[39m\u001b[38;5;124m'\u001b[39m, n_jobs\u001b[38;5;241m=\u001b[39m \u001b[38;5;241m-\u001b[39m\u001b[38;5;241m1\u001b[39m, cv\u001b[38;5;241m=\u001b[39m\u001b[38;5;241m5\u001b[39m)\n",
      "\u001b[1;31mModuleNotFoundError\u001b[0m: No module named 'mlxtend'"
     ]
    }
   ],
   "source": [
    "from mlxtend.feature_selection import SequentialFeatureSelector as SFS \n",
    "reg = LinearRegression()\n",
    "sfs = SFS(reg, k_features = 30, \n",
    "         forward = True, floating=False, scoring='r2', n_jobs= -1, cv=5)\n",
    "sfs = sfs.fit(X_train, Y_train)"
   ]
  },
  {
   "cell_type": "code",
   "execution_count": 48,
   "id": "39364c62",
   "metadata": {
    "ExecuteTime": {
     "end_time": "2022-11-04T16:48:06.309749Z",
     "start_time": "2022-11-04T16:48:06.065293Z"
    }
   },
   "outputs": [
    {
     "ename": "ModuleNotFoundError",
     "evalue": "No module named 'mlxtend'",
     "output_type": "error",
     "traceback": [
      "\u001b[1;31m---------------------------------------------------------------------------\u001b[0m",
      "\u001b[1;31mModuleNotFoundError\u001b[0m                       Traceback (most recent call last)",
      "Cell \u001b[1;32mIn[48], line 1\u001b[0m\n\u001b[1;32m----> 1\u001b[0m \u001b[38;5;28;01mfrom\u001b[39;00m \u001b[38;5;21;01mmlxtend\u001b[39;00m\u001b[38;5;21;01m.\u001b[39;00m\u001b[38;5;21;01mplotting\u001b[39;00m \u001b[38;5;28;01mimport\u001b[39;00m plot_sequential_feature_selection \u001b[38;5;28;01mas\u001b[39;00m plot_sfs\n\u001b[0;32m      2\u001b[0m fig1 \u001b[38;5;241m=\u001b[39m plot_sfs(sfs\u001b[38;5;241m.\u001b[39mget_metric_dict(), kind\u001b[38;5;241m=\u001b[39m\u001b[38;5;124m'\u001b[39m\u001b[38;5;124mstd_err\u001b[39m\u001b[38;5;124m'\u001b[39m, figsize\u001b[38;5;241m=\u001b[39m(\u001b[38;5;241m15\u001b[39m,\u001b[38;5;241m5\u001b[39m))\n\u001b[0;32m      3\u001b[0m plt\u001b[38;5;241m.\u001b[39mtitle(\u001b[38;5;124m\"\u001b[39m\u001b[38;5;124mFEature Selector - SFS\u001b[39m\u001b[38;5;124m\"\u001b[39m)\n",
      "\u001b[1;31mModuleNotFoundError\u001b[0m: No module named 'mlxtend'"
     ]
    }
   ],
   "source": [
    "from mlxtend.plotting import plot_sequential_feature_selection as plot_sfs\n",
    "fig1 = plot_sfs(sfs.get_metric_dict(), kind='std_err', figsize=(15,5))\n",
    "plt.title(\"FEature Selector - SFS\")\n",
    "plt.xticks(rotation=90)\n",
    "plt.show()"
   ]
  },
  {
   "cell_type": "code",
   "execution_count": 49,
   "id": "301d64e6",
   "metadata": {
    "ExecuteTime": {
     "end_time": "2022-11-04T16:48:40.716970Z",
     "start_time": "2022-11-04T16:48:19.157502Z"
    }
   },
   "outputs": [
    {
     "ename": "ModuleNotFoundError",
     "evalue": "No module named 'mlxtend'",
     "output_type": "error",
     "traceback": [
      "\u001b[1;31m---------------------------------------------------------------------------\u001b[0m",
      "\u001b[1;31mModuleNotFoundError\u001b[0m                       Traceback (most recent call last)",
      "Cell \u001b[1;32mIn[49], line 1\u001b[0m\n\u001b[1;32m----> 1\u001b[0m \u001b[38;5;28;01mfrom\u001b[39;00m \u001b[38;5;21;01mmlxtend\u001b[39;00m\u001b[38;5;21;01m.\u001b[39;00m\u001b[38;5;21;01mfeature_selection\u001b[39;00m \u001b[38;5;28;01mimport\u001b[39;00m SequentialFeatureSelector \u001b[38;5;28;01mas\u001b[39;00m SFS \n\u001b[0;32m      2\u001b[0m reg \u001b[38;5;241m=\u001b[39m LinearRegression()\n\u001b[0;32m      3\u001b[0m sfs \u001b[38;5;241m=\u001b[39m SFS(reg, k_features \u001b[38;5;241m=\u001b[39m \u001b[38;5;241m35\u001b[39m, \n\u001b[0;32m      4\u001b[0m          forward \u001b[38;5;241m=\u001b[39m \u001b[38;5;28;01mTrue\u001b[39;00m, floating\u001b[38;5;241m=\u001b[39m\u001b[38;5;28;01mFalse\u001b[39;00m, scoring\u001b[38;5;241m=\u001b[39m\u001b[38;5;124m'\u001b[39m\u001b[38;5;124mr2\u001b[39m\u001b[38;5;124m'\u001b[39m, n_jobs\u001b[38;5;241m=\u001b[39m \u001b[38;5;241m-\u001b[39m\u001b[38;5;241m1\u001b[39m, cv\u001b[38;5;241m=\u001b[39m\u001b[38;5;241m5\u001b[39m)\n",
      "\u001b[1;31mModuleNotFoundError\u001b[0m: No module named 'mlxtend'"
     ]
    }
   ],
   "source": [
    "from mlxtend.feature_selection import SequentialFeatureSelector as SFS \n",
    "reg = LinearRegression()\n",
    "sfs = SFS(reg, k_features = 35, \n",
    "         forward = True, floating=False, scoring='r2', n_jobs= -1, cv=5)\n",
    "sfs = sfs.fit(X_train, Y_train)"
   ]
  },
  {
   "cell_type": "code",
   "execution_count": 50,
   "id": "05f87ebc",
   "metadata": {
    "ExecuteTime": {
     "end_time": "2022-11-04T16:48:51.184860Z",
     "start_time": "2022-11-04T16:48:50.914357Z"
    }
   },
   "outputs": [
    {
     "ename": "ModuleNotFoundError",
     "evalue": "No module named 'mlxtend'",
     "output_type": "error",
     "traceback": [
      "\u001b[1;31m---------------------------------------------------------------------------\u001b[0m",
      "\u001b[1;31mModuleNotFoundError\u001b[0m                       Traceback (most recent call last)",
      "Cell \u001b[1;32mIn[50], line 1\u001b[0m\n\u001b[1;32m----> 1\u001b[0m \u001b[38;5;28;01mfrom\u001b[39;00m \u001b[38;5;21;01mmlxtend\u001b[39;00m\u001b[38;5;21;01m.\u001b[39;00m\u001b[38;5;21;01mplotting\u001b[39;00m \u001b[38;5;28;01mimport\u001b[39;00m plot_sequential_feature_selection \u001b[38;5;28;01mas\u001b[39;00m plot_sfs\n\u001b[0;32m      2\u001b[0m fig1 \u001b[38;5;241m=\u001b[39m plot_sfs(sfs\u001b[38;5;241m.\u001b[39mget_metric_dict(), kind\u001b[38;5;241m=\u001b[39m\u001b[38;5;124m'\u001b[39m\u001b[38;5;124mstd_err\u001b[39m\u001b[38;5;124m'\u001b[39m, figsize\u001b[38;5;241m=\u001b[39m(\u001b[38;5;241m15\u001b[39m,\u001b[38;5;241m5\u001b[39m))\n\u001b[0;32m      3\u001b[0m plt\u001b[38;5;241m.\u001b[39mtitle(\u001b[38;5;124m\"\u001b[39m\u001b[38;5;124mFEature Selector - SFS\u001b[39m\u001b[38;5;124m\"\u001b[39m)\n",
      "\u001b[1;31mModuleNotFoundError\u001b[0m: No module named 'mlxtend'"
     ]
    }
   ],
   "source": [
    "from mlxtend.plotting import plot_sequential_feature_selection as plot_sfs\n",
    "fig1 = plot_sfs(sfs.get_metric_dict(), kind='std_err', figsize=(15,5))\n",
    "plt.title(\"FEature Selector - SFS\")\n",
    "plt.xticks(rotation=90)\n",
    "plt.show()"
   ]
  },
  {
   "cell_type": "code",
   "execution_count": 51,
   "id": "82638cce",
   "metadata": {
    "ExecuteTime": {
     "end_time": "2022-11-04T16:50:13.752106Z",
     "start_time": "2022-11-04T16:50:13.748446Z"
    }
   },
   "outputs": [
    {
     "ename": "NameError",
     "evalue": "name 'sfs' is not defined",
     "output_type": "error",
     "traceback": [
      "\u001b[1;31m---------------------------------------------------------------------------\u001b[0m",
      "\u001b[1;31mNameError\u001b[0m                                 Traceback (most recent call last)",
      "Cell \u001b[1;32mIn[51], line 1\u001b[0m\n\u001b[1;32m----> 1\u001b[0m feature_index \u001b[38;5;241m=\u001b[39m \u001b[38;5;28mlist\u001b[39m(\u001b[43msfs\u001b[49m\u001b[38;5;241m.\u001b[39mk_feature_idx_)\n\u001b[0;32m      2\u001b[0m \u001b[38;5;28mprint\u001b[39m(feature_index)\n",
      "\u001b[1;31mNameError\u001b[0m: name 'sfs' is not defined"
     ]
    }
   ],
   "source": [
    "feature_index = list(sfs.k_feature_idx_)\n",
    "print(feature_index)"
   ]
  },
  {
   "cell_type": "code",
   "execution_count": 52,
   "id": "c1ab29d6",
   "metadata": {
    "ExecuteTime": {
     "end_time": "2022-11-04T16:50:54.171553Z",
     "start_time": "2022-11-04T16:50:54.165347Z"
    }
   },
   "outputs": [
    {
     "ename": "NameError",
     "evalue": "name 'X_train' is not defined",
     "output_type": "error",
     "traceback": [
      "\u001b[1;31m---------------------------------------------------------------------------\u001b[0m",
      "\u001b[1;31mNameError\u001b[0m                                 Traceback (most recent call last)",
      "Cell \u001b[1;32mIn[52], line 1\u001b[0m\n\u001b[1;32m----> 1\u001b[0m \u001b[43mX_train\u001b[49m\u001b[38;5;241m.\u001b[39mcolumns[feature_index]\n",
      "\u001b[1;31mNameError\u001b[0m: name 'X_train' is not defined"
     ]
    }
   ],
   "source": [
    "X_train.columns[feature_index]"
   ]
  },
  {
   "cell_type": "code",
   "execution_count": 53,
   "id": "5b59b293",
   "metadata": {
    "ExecuteTime": {
     "end_time": "2022-11-04T16:53:11.181826Z",
     "start_time": "2022-11-04T16:53:11.175886Z"
    }
   },
   "outputs": [
    {
     "ename": "NameError",
     "evalue": "name 'X_train' is not defined",
     "output_type": "error",
     "traceback": [
      "\u001b[1;31m---------------------------------------------------------------------------\u001b[0m",
      "\u001b[1;31mNameError\u001b[0m                                 Traceback (most recent call last)",
      "Cell \u001b[1;32mIn[53], line 1\u001b[0m\n\u001b[1;32m----> 1\u001b[0m X_train_final \u001b[38;5;241m=\u001b[39m \u001b[43mX_train\u001b[49m[X_train\u001b[38;5;241m.\u001b[39mcolumns[feature_index]]\n\u001b[0;32m      2\u001b[0m X_test_final \u001b[38;5;241m=\u001b[39m X_test[X_test\u001b[38;5;241m.\u001b[39mcolumns[feature_index]]\n",
      "\u001b[1;31mNameError\u001b[0m: name 'X_train' is not defined"
     ]
    }
   ],
   "source": [
    "X_train_final = X_train[X_train.columns[feature_index]]\n",
    "X_test_final = X_test[X_test.columns[feature_index]]"
   ]
  },
  {
   "cell_type": "code",
   "execution_count": 54,
   "id": "5a5ebc3d",
   "metadata": {
    "ExecuteTime": {
     "end_time": "2022-11-04T16:54:17.996651Z",
     "start_time": "2022-11-04T16:54:17.982410Z"
    }
   },
   "outputs": [
    {
     "ename": "NameError",
     "evalue": "name 'LinearRegression' is not defined",
     "output_type": "error",
     "traceback": [
      "\u001b[1;31m---------------------------------------------------------------------------\u001b[0m",
      "\u001b[1;31mNameError\u001b[0m                                 Traceback (most recent call last)",
      "Cell \u001b[1;32mIn[54], line 1\u001b[0m\n\u001b[1;32m----> 1\u001b[0m lin_model_v2 \u001b[38;5;241m=\u001b[39m \u001b[43mLinearRegression\u001b[49m()\n\u001b[0;32m      2\u001b[0m lin_model_v2\u001b[38;5;241m.\u001b[39mfit(X_train_final, Y_train)\n",
      "\u001b[1;31mNameError\u001b[0m: name 'LinearRegression' is not defined"
     ]
    }
   ],
   "source": [
    "lin_model_v2 = LinearRegression()\n",
    "lin_model_v2.fit(X_train_final, Y_train)"
   ]
  },
  {
   "cell_type": "code",
   "execution_count": 55,
   "id": "c2c65e2e",
   "metadata": {
    "ExecuteTime": {
     "end_time": "2022-11-04T16:54:45.727305Z",
     "start_time": "2022-11-04T16:54:45.711452Z"
    }
   },
   "outputs": [
    {
     "name": "stdout",
     "output_type": "stream",
     "text": [
      "Training Data Performance\n"
     ]
    },
    {
     "ename": "NameError",
     "evalue": "name 'lin_model' is not defined",
     "output_type": "error",
     "traceback": [
      "\u001b[1;31m---------------------------------------------------------------------------\u001b[0m",
      "\u001b[1;31mNameError\u001b[0m                                 Traceback (most recent call last)",
      "Cell \u001b[1;32mIn[55], line 2\u001b[0m\n\u001b[0;32m      1\u001b[0m \u001b[38;5;28mprint\u001b[39m(\u001b[38;5;124m\"\u001b[39m\u001b[38;5;124mTraining Data Performance\u001b[39m\u001b[38;5;124m\"\u001b[39m)\n\u001b[1;32m----> 2\u001b[0m lin_model_train \u001b[38;5;241m=\u001b[39m Model_performance(\u001b[43mlin_model\u001b[49m, X_train, Y_train)\n\u001b[0;32m      3\u001b[0m lin_model_train\n",
      "\u001b[1;31mNameError\u001b[0m: name 'lin_model' is not defined"
     ]
    }
   ],
   "source": [
    "print(\"Training Data Performance\")\n",
    "lin_model_train = Model_performance(lin_model, X_train, Y_train)\n",
    "lin_model_train"
   ]
  },
  {
   "cell_type": "code",
   "execution_count": 56,
   "id": "9f73a9c0",
   "metadata": {
    "ExecuteTime": {
     "end_time": "2022-11-04T16:55:12.660193Z",
     "start_time": "2022-11-04T16:55:12.644602Z"
    }
   },
   "outputs": [
    {
     "name": "stdout",
     "output_type": "stream",
     "text": [
      "Training Data Performance\n"
     ]
    },
    {
     "ename": "NameError",
     "evalue": "name 'lin_model' is not defined",
     "output_type": "error",
     "traceback": [
      "\u001b[1;31m---------------------------------------------------------------------------\u001b[0m",
      "\u001b[1;31mNameError\u001b[0m                                 Traceback (most recent call last)",
      "Cell \u001b[1;32mIn[56], line 2\u001b[0m\n\u001b[0;32m      1\u001b[0m \u001b[38;5;28mprint\u001b[39m(\u001b[38;5;124m\"\u001b[39m\u001b[38;5;124mTraining Data Performance\u001b[39m\u001b[38;5;124m\"\u001b[39m)\n\u001b[1;32m----> 2\u001b[0m lin_model_train \u001b[38;5;241m=\u001b[39m Model_performance(\u001b[43mlin_model\u001b[49m, X_test, Y_test)\n\u001b[0;32m      3\u001b[0m lin_model_train\n",
      "\u001b[1;31mNameError\u001b[0m: name 'lin_model' is not defined"
     ]
    }
   ],
   "source": [
    "print(\"Training Data Performance\")\n",
    "lin_model_train = Model_performance(lin_model, X_test, Y_test)\n",
    "lin_model_train"
   ]
  },
  {
   "cell_type": "code",
   "execution_count": 57,
   "id": "8c085e10",
   "metadata": {
    "ExecuteTime": {
     "end_time": "2022-11-04T17:07:03.055420Z",
     "start_time": "2022-11-04T17:07:03.050426Z"
    }
   },
   "outputs": [
    {
     "ename": "NameError",
     "evalue": "name 'X_train' is not defined",
     "output_type": "error",
     "traceback": [
      "\u001b[1;31m---------------------------------------------------------------------------\u001b[0m",
      "\u001b[1;31mNameError\u001b[0m                                 Traceback (most recent call last)",
      "Cell \u001b[1;32mIn[57], line 1\u001b[0m\n\u001b[1;32m----> 1\u001b[0m \u001b[43mX_train\u001b[49m\u001b[38;5;241m.\u001b[39mcolumns[feature_index]\n",
      "\u001b[1;31mNameError\u001b[0m: name 'X_train' is not defined"
     ]
    }
   ],
   "source": [
    "X_train.columns[feature_index]"
   ]
  },
  {
   "cell_type": "raw",
   "id": "3c5a7ccb",
   "metadata": {},
   "source": [
    "mxtendm: http://rasbt.github.io/mlxtend/"
   ]
  },
  {
   "cell_type": "code",
   "execution_count": 58,
   "id": "227dde5a",
   "metadata": {
    "ExecuteTime": {
     "end_time": "2022-11-04T17:06:23.530242Z",
     "start_time": "2022-11-04T17:06:23.513327Z"
    }
   },
   "outputs": [
    {
     "ename": "NameError",
     "evalue": "name 'X_train' is not defined",
     "output_type": "error",
     "traceback": [
      "\u001b[1;31m---------------------------------------------------------------------------\u001b[0m",
      "\u001b[1;31mNameError\u001b[0m                                 Traceback (most recent call last)",
      "Cell \u001b[1;32mIn[58], line 1\u001b[0m\n\u001b[1;32m----> 1\u001b[0m \u001b[43mX_train\u001b[49m\u001b[38;5;241m.\u001b[39mhead(\u001b[38;5;241m2\u001b[39m)\n",
      "\u001b[1;31mNameError\u001b[0m: name 'X_train' is not defined"
     ]
    }
   ],
   "source": [
    "X_train.head(2)"
   ]
  },
  {
   "cell_type": "code",
   "execution_count": null,
   "id": "046396f0-1a53-4792-99bf-cf798372d2d6",
   "metadata": {},
   "outputs": [],
   "source": []
  }
 ],
 "metadata": {
  "kernelspec": {
   "display_name": "Python 3 (ipykernel)",
   "language": "python",
   "name": "python3"
  },
  "language_info": {
   "codemirror_mode": {
    "name": "ipython",
    "version": 3
   },
   "file_extension": ".py",
   "mimetype": "text/x-python",
   "name": "python",
   "nbconvert_exporter": "python",
   "pygments_lexer": "ipython3",
   "version": "3.12.0"
  }
 },
 "nbformat": 4,
 "nbformat_minor": 5
}
